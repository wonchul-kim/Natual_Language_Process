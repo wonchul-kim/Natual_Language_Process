{
 "cells": [
  {
   "cell_type": "markdown",
   "id": "heated-gregory",
   "metadata": {},
   "source": [
    "## Embedding \n",
    "\n",
    "Embedding은 raw data를 모델이 해석할 수 있는 입력값으로 바꿔주는 함수라고 할 수 있다. `nn.Embedding()`으로 이미 함수가 존재하여 raw data를 입력으로 넣으면 알아서 ebedding이 되고 모델의 성능이 잘 나오도록 학습된다. "
   ]
  },
  {
   "cell_type": "markdown",
   "id": "lesser-memorial",
   "metadata": {},
   "source": [
    "### Lookup table\n",
    "\n",
    "`nn.Embedding()` 함수를 사용하지 않고 다음과 같이 작성하면 이해가 쉽다."
   ]
  },
  {
   "cell_type": "code",
   "execution_count": 8,
   "id": "tracked-johnston",
   "metadata": {},
   "outputs": [],
   "source": [
    "import torch\n",
    "import torch.nn as nn\n",
    "import torch.nn.functional as F"
   ]
  },
  {
   "cell_type": "code",
   "execution_count": 1,
   "id": "finished-illness",
   "metadata": {},
   "outputs": [],
   "source": [
    "data = 'you need to know how to code'"
   ]
  },
  {
   "cell_type": "code",
   "execution_count": 3,
   "id": "handled-phenomenon",
   "metadata": {},
   "outputs": [
    {
     "data": {
      "text/plain": [
       "{'code', 'how', 'know', 'need', 'to', 'you'}"
      ]
     },
     "execution_count": 3,
     "metadata": {},
     "output_type": "execute_result"
    }
   ],
   "source": [
    "word_set = set(data.split())\n",
    "word_set"
   ]
  },
  {
   "cell_type": "code",
   "execution_count": 5,
   "id": "solid-journey",
   "metadata": {},
   "outputs": [
    {
     "data": {
      "text/plain": [
       "{'you': 2,\n",
       " 'to': 3,\n",
       " 'how': 4,\n",
       " 'need': 5,\n",
       " 'code': 6,\n",
       " 'know': 7,\n",
       " '<unk>': 0,\n",
       " '<pad>': 1}"
      ]
     },
     "execution_count": 5,
     "metadata": {},
     "output_type": "execute_result"
    }
   ],
   "source": [
    "vocab = {word: i + 2 for i, word in enumerate(word_set)}\n",
    "vocab['<unk>'] = 0\n",
    "vocab['<pad>'] = 1\n",
    "vocab"
   ]
  },
  {
   "cell_type": "code",
   "execution_count": 12,
   "id": "controlling-journalist",
   "metadata": {},
   "outputs": [
    {
     "data": {
      "text/plain": [
       "torch.Size([8, 3])"
      ]
     },
     "execution_count": 12,
     "metadata": {},
     "output_type": "execute_result"
    }
   ],
   "source": [
    "lookup_table = torch.FloatTensor([\n",
    "                               [ 0.0,  0.0,  0.0],\n",
    "                               [ 0.0,  0.0,  0.0],\n",
    "                               [ 0.2,  0.9,  0.3],\n",
    "                               [ 0.1,  0.5,  0.7],\n",
    "                               [ 0.2,  0.1,  0.8],\n",
    "                               [ 0.4,  0.1,  0.1],\n",
    "                               [ 0.1,  0.8,  0.9],\n",
    "                               [ 0.6,  0.1,  0.1]])\n",
    "lookup_table.shape"
   ]
  },
  {
   "cell_type": "code",
   "execution_count": 13,
   "id": "capable-circular",
   "metadata": {},
   "outputs": [
    {
     "data": {
      "text/plain": [
       "tensor([[0.2000, 0.9000, 0.3000],\n",
       "        [0.4000, 0.1000, 0.1000],\n",
       "        [0.1000, 0.5000, 0.7000],\n",
       "        [0.0000, 0.0000, 0.0000]])"
      ]
     },
     "execution_count": 13,
     "metadata": {},
     "output_type": "execute_result"
    }
   ],
   "source": [
    "test = 'you need to run'.split()\n",
    "\n",
    "ids = []\n",
    "for word in test:\n",
    "    try:\n",
    "        ids.append(vocab[word])\n",
    "    except:\n",
    "        ids.append(vocab['<unk>'])\n",
    "ids = torch.LongTensor(ids)\n",
    "\n",
    "res = lookup_table[ids, :]\n",
    "res"
   ]
  },
  {
   "cell_type": "markdown",
   "id": "seven-reconstruction",
   "metadata": {},
   "source": [
    "### nn.Embedding()"
   ]
  },
  {
   "cell_type": "code",
   "execution_count": 16,
   "id": "distributed-williams",
   "metadata": {},
   "outputs": [
    {
     "data": {
      "text/plain": [
       "Parameter containing:\n",
       "tensor([[-2.1732,  1.4045,  0.3221],\n",
       "        [ 0.0000,  0.0000,  0.0000],\n",
       "        [-0.4680,  0.5373,  0.2338],\n",
       "        [ 0.3232,  1.9299,  0.5548],\n",
       "        [-1.2547,  0.4103,  0.9569],\n",
       "        [-1.4597,  2.3673,  0.8429],\n",
       "        [-0.2507, -1.1075,  0.8831],\n",
       "        [-0.6311, -0.6794, -0.6736]], requires_grad=True)"
      ]
     },
     "execution_count": 16,
     "metadata": {},
     "output_type": "execute_result"
    }
   ],
   "source": [
    "nn_embed = nn.Embedding(num_embeddings=len(vocab),\n",
    "                         embedding_dim=3,\n",
    "                         padding_idx=1)\n",
    "\n",
    "nn_embed.weight"
   ]
  }
 ],
 "metadata": {
  "kernelspec": {
   "display_name": "Python 3",
   "language": "python",
   "name": "python3"
  },
  "language_info": {
   "codemirror_mode": {
    "name": "ipython",
    "version": 3
   },
   "file_extension": ".py",
   "mimetype": "text/x-python",
   "name": "python",
   "nbconvert_exporter": "python",
   "pygments_lexer": "ipython3",
   "version": "3.8.8"
  }
 },
 "nbformat": 4,
 "nbformat_minor": 5
}
