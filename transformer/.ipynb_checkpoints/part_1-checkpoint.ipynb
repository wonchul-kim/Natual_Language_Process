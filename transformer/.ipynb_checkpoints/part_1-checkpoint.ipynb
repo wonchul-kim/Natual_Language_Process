{
 "cells": [
  {
   "cell_type": "code",
   "execution_count": 8,
   "id": "adverse-honolulu",
   "metadata": {},
   "outputs": [],
   "source": [
    "import sentencepiece as spm\n",
    "import torch\n",
    "import torch.nn as nn\n",
    "import torch.nn.functional as F\n",
    "import numpy as np\n",
    "import matplotlib.pyplot as plt"
   ]
  },
  {
   "cell_type": "code",
   "execution_count": 9,
   "id": "infinite-fiber",
   "metadata": {},
   "outputs": [
    {
     "data": {
      "text/plain": [
       "True"
      ]
     },
     "execution_count": 9,
     "metadata": {},
     "output_type": "execute_result"
    }
   ],
   "source": [
    "vocab_model = './data/kowiki.model'\n",
    "vocab = spm.SentencePieceProcessor()\n",
    "vocab.load(vocab_model)"
   ]
  },
  {
   "cell_type": "code",
   "execution_count": 3,
   "id": "vulnerable-recall",
   "metadata": {},
   "outputs": [],
   "source": [
    "sentences = ['내일은 비가 오네요.',\n",
    "              '오늘은 날씨가 좋네요.']\n"
   ]
  },
  {
   "cell_type": "code",
   "execution_count": 4,
   "id": "bulgarian-republic",
   "metadata": {},
   "outputs": [
    {
     "name": "stdout",
     "output_type": "stream",
     "text": [
      "['▁겨울', '은', '▁추', '워', '요', '.']\n",
      "[3159, 3501, 200, 3851, 3656, 3487]\n",
      "['▁감', '기', '▁조', '심', '하', '세', '요', '.']\n",
      "[206, 3502, 53, 3727, 3493, 3581, 3656, 3487]\n"
     ]
    }
   ],
   "source": [
    "vocab_list = []\n",
    "for sentence in sentences:\n",
    "    pieces = vocab.encode_as_pieces(sentence)\n",
    "    print(pieces)\n",
    "    ids = vocab.encode_as_ids(sentence)\n",
    "    print(ids)\n",
    "    vocab_list.append(torch.tensor(ids))\n",
    "    "
   ]
  },
  {
   "cell_type": "code",
   "execution_count": 5,
   "id": "wrong-resident",
   "metadata": {},
   "outputs": [
    {
     "name": "stdout",
     "output_type": "stream",
     "text": [
      "tensor([[3159, 3501,  200, 3851, 3656, 3487,    0,    0],\n",
      "        [ 206, 3502,   53, 3727, 3493, 3581, 3656, 3487]])\n",
      "torch.Size([2, 8])\n"
     ]
    }
   ],
   "source": [
    "inputs = torch.nn.utils.rnn.pad_sequence(vocab_list, \\\n",
    "                                 batch_first=True, padding_value=0)\n",
    "\n",
    "print(inputs)\n",
    "print(inputs.size())"
   ]
  },
  {
   "cell_type": "markdown",
   "id": "loaded-allah",
   "metadata": {},
   "source": [
    "문장마다 길이가 다르기 때문에 생기는 차이는 `pad(0)`으로 채워준다."
   ]
  },
  {
   "cell_type": "markdown",
   "id": "outside-atlantic",
   "metadata": {},
   "source": [
    "## 1. Embedding\n",
    "\n",
    "**Transformer**의 `embedding`은 다음과 같이 두 가지를 합해서 사용한다.\n",
    "\n",
    "* Input Embedding\n",
    "* Positional Embedding"
   ]
  },
  {
   "cell_type": "markdown",
   "id": "welsh-rebel",
   "metadata": {},
   "source": [
    "### 1-1. Input embedding"
   ]
  },
  {
   "cell_type": "code",
   "execution_count": 7,
   "id": "geological-volume",
   "metadata": {},
   "outputs": [
    {
     "name": "stdout",
     "output_type": "stream",
     "text": [
      "8007\n",
      "torch.Size([2, 8, 128])\n"
     ]
    }
   ],
   "source": [
    "num_vocabs = len(vocab)\n",
    "print(num_vocabs)\n",
    "dim_hidden = 128\n",
    "embed = nn.Embedding(num_vocabs, dim_hidden)\n",
    "\n",
    "inputs_embed = embed(inputs)\n",
    "print(inputs_embed.size())"
   ]
  },
  {
   "cell_type": "markdown",
   "id": "labeled-mailing",
   "metadata": {},
   "source": [
    "> nn.Embedding의 원리가 뭐지??? 왜 num_vocabs가 인자로 들어가는데 실제로 임베딩이 된 size는 다르지??"
   ]
  },
  {
   "cell_type": "markdown",
   "id": "static-exhibit",
   "metadata": {},
   "source": [
    "### 1-2. Positional embedding\n",
    "\n",
    "- 각 position별 angle 값 구하기.\n",
    "- 구해진 angle 중 짝수 index의 값에 대한 sin 적용\n",
    "- 구해진 angle 중 홀수 index의 값에 대한 cos 적용"
   ]
  },
  {
   "cell_type": "code",
   "execution_count": 8,
   "id": "micro-ceramic",
   "metadata": {},
   "outputs": [],
   "source": [
    "def get_pos_encoding(num_seq, hidden_size):\n",
    "\n",
    "    def cal_angle(pos, idx_hidden):\n",
    "        return pos/np.power(10000, \\\n",
    "                            2*(idx_hidden//2)/hidden_size)\n",
    "    \n",
    "    def get_pos_angle(pos):\n",
    "        return [cal_angle(pos, idx_hidden) for idx_hidden \\\n",
    "                                            in range(hidden_size)]\n",
    "    \n",
    "    sinusoid_table = np.array([get_pos_angle(i_seq) for \\\n",
    "                                           i_seq in range(num_seq)])\n",
    "    sinusoid_table[:, 0::2] = np.sin(sinusoid_table[:, 0::2])  # even index sin \n",
    "    sinusoid_table[:, 1::2] = np.cos(sinusoid_table[:, 1::2])  # odd index cos\n",
    "\n",
    "    return sinusoid_table"
   ]
  },
  {
   "cell_type": "code",
   "execution_count": 9,
   "id": "binary-mailman",
   "metadata": {},
   "outputs": [
    {
     "name": "stdout",
     "output_type": "stream",
     "text": [
      "(64, 128)\n"
     ]
    },
    {
     "data": {
      "image/png": "[encoded data removed]",
      "text/plain": [
       "<Figure size 432x288 with 2 Axes>"
      ]
     },
     "metadata": {
      "needs_background": "light"
     },
     "output_type": "display_data"
    }
   ],
   "source": [
    "num_seq = 64\n",
    "pos_encoding = get_pos_encoding(num_seq, hidden_size)\n",
    "\n",
    "print (pos_encoding.shape) # 크기 출력\n",
    "plt.pcolormesh(pos_encoding, cmap='RdBu')\n",
    "plt.xlabel('Depth')\n",
    "plt.xlim((0, hidden_size))\n",
    "plt.ylabel('Position')\n",
    "plt.colorbar()\n",
    "plt.show()"
   ]
  },
  {
   "cell_type": "markdown",
   "id": "intelligent-cuisine",
   "metadata": {},
   "source": [
    "위에서 구한 결과를 그래프로 출력하면 아래와 같이 각 position 별로 다른 값을 갖는 것을 확인 할 수 있습니다."
   ]
  },
  {
   "cell_type": "markdown",
   "id": "eastern-bathroom",
   "metadata": {},
   "source": [
    "> 각 position 별로 다른 값을 갖는 것을 확인 할 수 있다.???????"
   ]
  },
  {
   "cell_type": "markdown",
   "id": "palestinian-bronze",
   "metadata": {},
   "source": [
    "아래 절차로 position embedding 값을 구합니다.\n",
    "\n",
    "1. 위해서 구해진 position encodong 값을 이용해 position emgedding을 생성합니다. 학습되는 값이 아니므로 freeze옵션을 True로 설정 합니다.\n",
    "2. 입력 inputs과 동일한 크기를 갖는 positions값을 구합니다.\n",
    "3. input값 중 pad(0)값을 찾습니다.\n",
    "4. positions값중 pad부분은 0으로 변경 합니다.\n",
    "5. positions값에 해당하는 embedding값을 구합니다.\n"
   ]
  },
  {
   "cell_type": "code",
   "execution_count": 10,
   "id": "intimate-actor",
   "metadata": {},
   "outputs": [
    {
     "name": "stdout",
     "output_type": "stream",
     "text": [
      "tensor([[3159, 3501,  200, 3851, 3656, 3487,    0,    0],\n",
      "        [ 206, 3502,   53, 3727, 3493, 3581, 3656, 3487]])\n",
      "tensor([[1, 2, 3, 4, 5, 6, 0, 0],\n",
      "        [1, 2, 3, 4, 5, 6, 7, 8]])\n",
      "torch.Size([2, 8, 128])\n"
     ]
    }
   ],
   "source": [
    "pos_encoding = torch.FloatTensor(pos_encoding)\n",
    "nn_pos = nn.Embedding.from_pretrained(pos_encoding, freeze=True)\n",
    "\n",
    "positions = torch.arange(inputs.size(1), device=inputs.device, dtype=inputs.dtype).expand(\\\n",
    "                                                          inputs.size(0), inputs.size(1)).contiguous() + 1\n",
    "pos_mask = inputs.eq(0)\n",
    "\n",
    "positions.masked_fill_(pos_mask, 0)\n",
    "pos_embed = nn_pos(positions) # position embedding\n",
    "\n",
    "print(inputs)\n",
    "print(positions)\n",
    "print(pos_embed.size())"
   ]
  },
  {
   "cell_type": "code",
   "execution_count": 11,
   "id": "reasonable-dining",
   "metadata": {},
   "outputs": [],
   "source": [
    "inputs_sum = inputs_embed + pos_embed"
   ]
  },
  {
   "cell_type": "markdown",
   "id": "revolutionary-frost",
   "metadata": {},
   "source": [
    "## Scaled dot production attention"
   ]
  },
  {
   "cell_type": "markdown",
   "id": "humanitarian-carnival",
   "metadata": {},
   "source": [
    "<img src='./imgs/dot_production_attn.png' width=500>\n",
    "\n",
    "위와 같이 입력값은 `Q, K, V, attention mask`로 구성되어 있고, `K`와 `V`는 값은 값이어야 한다. 이 때, `Q, K, V`가 모두 동일하다면 **self-attention**이라고 한다."
   ]
  },
  {
   "cell_type": "code",
   "execution_count": 12,
   "id": "driving-restaurant",
   "metadata": {
    "scrolled": false
   },
   "outputs": [
    {
     "name": "stdout",
     "output_type": "stream",
     "text": [
      "torch.Size([2, 8, 8])\n",
      "tensor([[[False, False, False, False, False, False,  True,  True],\n",
      "         [False, False, False, False, False, False,  True,  True],\n",
      "         [False, False, False, False, False, False,  True,  True],\n",
      "         [False, False, False, False, False, False,  True,  True],\n",
      "         [False, False, False, False, False, False,  True,  True],\n",
      "         [False, False, False, False, False, False,  True,  True],\n",
      "         [False, False, False, False, False, False,  True,  True],\n",
      "         [False, False, False, False, False, False,  True,  True]],\n",
      "\n",
      "        [[False, False, False, False, False, False, False, False],\n",
      "         [False, False, False, False, False, False, False, False],\n",
      "         [False, False, False, False, False, False, False, False],\n",
      "         [False, False, False, False, False, False, False, False],\n",
      "         [False, False, False, False, False, False, False, False],\n",
      "         [False, False, False, False, False, False, False, False],\n",
      "         [False, False, False, False, False, False, False, False],\n",
      "         [False, False, False, False, False, False, False, False]]])\n"
     ]
    }
   ],
   "source": [
    "# 1. MatMul\n",
    "Q = inputs_sum\n",
    "K= inputs_sum\n",
    "V = inputs_sum\n",
    "attn_mask = inputs.eq(0).unsqueeze(1).expand(Q.size(0), Q.size(1), K.size(1))\n",
    "print(attn_mask.size())\n",
    "print(attn_mask)"
   ]
  },
  {
   "cell_type": "code",
   "execution_count": 13,
   "id": "placed-magnet",
   "metadata": {
    "scrolled": true
   },
   "outputs": [
    {
     "name": "stdout",
     "output_type": "stream",
     "text": [
      "torch.Size([2, 8, 8])\n",
      "tensor([[[222.2694,  72.3714,  66.2133,  49.5129,  57.0616,  48.2986,  89.9221,\n",
      "           89.9221],\n",
      "         [ 72.3714, 216.7977,  73.5336,  43.4932,  46.7913,  44.1802,  61.9755,\n",
      "           61.9755],\n",
      "         [ 66.2133,  73.5336, 214.1708,  64.2639,  70.3936,  57.7615,  83.9841,\n",
      "           83.9841],\n",
      "         [ 49.5129,  43.4932,  64.2639, 154.3635,  60.0986,  51.1447,  39.7627,\n",
      "           39.7627],\n",
      "         [ 57.0616,  46.7913,  70.3936,  60.0986, 189.1722,  61.3365,  78.5506,\n",
      "           78.5506],\n",
      "         [ 48.2986,  44.1802,  57.7615,  51.1447,  61.3365, 180.7746,  54.0768,\n",
      "           54.0768],\n",
      "         [ 89.9221,  61.9755,  83.9841,  39.7627,  78.5506,  54.0768, 192.9594,\n",
      "          192.9594],\n",
      "         [ 89.9221,  61.9755,  83.9841,  39.7627,  78.5506,  54.0768, 192.9594,\n",
      "          192.9594]],\n",
      "\n",
      "        [[195.7664,  62.5250,  54.1039,  56.9573,  31.1514,  37.3858,  51.8901,\n",
      "           56.7230],\n",
      "         [ 62.5250, 192.2083,  40.9107,  58.5545,  49.9863,  43.4563,  44.9022,\n",
      "           65.7289],\n",
      "         [ 54.1039,  40.9107, 185.0735,  62.2499,  70.7710,  50.6129,  60.9864,\n",
      "           54.1297],\n",
      "         [ 56.9573,  58.5545,  62.2499, 196.5403,  57.6250,  56.6570,  47.2348,\n",
      "           30.7548],\n",
      "         [ 31.1514,  49.9863,  70.7710,  57.6250, 198.4309,  44.7280,  72.1731,\n",
      "           68.0953],\n",
      "         [ 37.3858,  43.4563,  50.6129,  56.6570,  44.7280, 179.8757,  51.8826,\n",
      "           35.0390],\n",
      "         [ 51.8901,  44.9022,  60.9864,  47.2348,  72.1731,  51.8827, 185.1423,\n",
      "           61.1194],\n",
      "         [ 56.7230,  65.7289,  54.1297,  30.7548,  68.0953,  35.0390,  61.1194,\n",
      "          189.5137]]], grad_fn=<UnsafeViewBackward>)\n"
     ]
    }
   ],
   "source": [
    "scores = torch.matmul(Q, K.transpose(-1, -2))\n",
    "print(scores.size())\n",
    "print(scores)"
   ]
  },
  {
   "cell_type": "code",
   "execution_count": 15,
   "id": "northern-mobility",
   "metadata": {
    "scrolled": true
   },
   "outputs": [
    {
     "name": "stdout",
     "output_type": "stream",
     "text": [
      "torch.Size([2, 8, 8])\n",
      "tensor([[[27.7837,  9.0464,  8.2767,  6.1891,  7.1327,  6.0373, 11.2403,\n",
      "          11.2403],\n",
      "         [ 9.0464, 27.0997,  9.1917,  5.4366,  5.8489,  5.5225,  7.7469,\n",
      "           7.7469],\n",
      "         [ 8.2767,  9.1917, 26.7713,  8.0330,  8.7992,  7.2202, 10.4980,\n",
      "          10.4980],\n",
      "         [ 6.1891,  5.4366,  8.0330, 19.2954,  7.5123,  6.3931,  4.9703,\n",
      "           4.9703],\n",
      "         [ 7.1327,  5.8489,  8.7992,  7.5123, 23.6465,  7.6671,  9.8188,\n",
      "           9.8188],\n",
      "         [ 6.0373,  5.5225,  7.2202,  6.3931,  7.6671, 22.5968,  6.7596,\n",
      "           6.7596],\n",
      "         [11.2403,  7.7469, 10.4980,  4.9703,  9.8188,  6.7596, 24.1199,\n",
      "          24.1199],\n",
      "         [11.2403,  7.7469, 10.4980,  4.9703,  9.8188,  6.7596, 24.1199,\n",
      "          24.1199]],\n",
      "\n",
      "        [[24.4708,  7.8156,  6.7630,  7.1197,  3.8939,  4.6732,  6.4863,\n",
      "           7.0904],\n",
      "         [ 7.8156, 24.0260,  5.1138,  7.3193,  6.2483,  5.4320,  5.6128,\n",
      "           8.2161],\n",
      "         [ 6.7630,  5.1138, 23.1342,  7.7812,  8.8464,  6.3266,  7.6233,\n",
      "           6.7662],\n",
      "         [ 7.1197,  7.3193,  7.7812, 24.5675,  7.2031,  7.0821,  5.9044,\n",
      "           3.8444],\n",
      "         [ 3.8939,  6.2483,  8.8464,  7.2031, 24.8039,  5.5910,  9.0216,\n",
      "           8.5119],\n",
      "         [ 4.6732,  5.4320,  6.3266,  7.0821,  5.5910, 22.4845,  6.4853,\n",
      "           4.3799],\n",
      "         [ 6.4863,  5.6128,  7.6233,  5.9044,  9.0216,  6.4853, 23.1428,\n",
      "           7.6399],\n",
      "         [ 7.0904,  8.2161,  6.7662,  3.8444,  8.5119,  4.3799,  7.6399,\n",
      "          23.6892]]], grad_fn=<MulBackward0>)\n"
     ]
    }
   ],
   "source": [
    "# 2. Scale\n",
    "dim_head = 64\n",
    "scores = scores.mul_(1/dim_head**0.5)\n",
    "print(scores.size())\n",
    "print(scores)"
   ]
  },
  {
   "cell_type": "code",
   "execution_count": 16,
   "id": "improved-correction",
   "metadata": {
    "scrolled": true
   },
   "outputs": [
    {
     "name": "stdout",
     "output_type": "stream",
     "text": [
      "torch.Size([2, 8, 8])\n",
      "tensor([[[ 2.7784e+01,  9.0464e+00,  8.2767e+00,  6.1891e+00,  7.1327e+00,\n",
      "           6.0373e+00, -1.0000e+09, -1.0000e+09],\n",
      "         [ 9.0464e+00,  2.7100e+01,  9.1917e+00,  5.4366e+00,  5.8489e+00,\n",
      "           5.5225e+00, -1.0000e+09, -1.0000e+09],\n",
      "         [ 8.2767e+00,  9.1917e+00,  2.6771e+01,  8.0330e+00,  8.7992e+00,\n",
      "           7.2202e+00, -1.0000e+09, -1.0000e+09],\n",
      "         [ 6.1891e+00,  5.4366e+00,  8.0330e+00,  1.9295e+01,  7.5123e+00,\n",
      "           6.3931e+00, -1.0000e+09, -1.0000e+09],\n",
      "         [ 7.1327e+00,  5.8489e+00,  8.7992e+00,  7.5123e+00,  2.3647e+01,\n",
      "           7.6671e+00, -1.0000e+09, -1.0000e+09],\n",
      "         [ 6.0373e+00,  5.5225e+00,  7.2202e+00,  6.3931e+00,  7.6671e+00,\n",
      "           2.2597e+01, -1.0000e+09, -1.0000e+09],\n",
      "         [ 1.1240e+01,  7.7469e+00,  1.0498e+01,  4.9703e+00,  9.8188e+00,\n",
      "           6.7596e+00, -1.0000e+09, -1.0000e+09],\n",
      "         [ 1.1240e+01,  7.7469e+00,  1.0498e+01,  4.9703e+00,  9.8188e+00,\n",
      "           6.7596e+00, -1.0000e+09, -1.0000e+09]],\n",
      "\n",
      "        [[ 2.4471e+01,  7.8156e+00,  6.7630e+00,  7.1197e+00,  3.8939e+00,\n",
      "           4.6732e+00,  6.4863e+00,  7.0904e+00],\n",
      "         [ 7.8156e+00,  2.4026e+01,  5.1138e+00,  7.3193e+00,  6.2483e+00,\n",
      "           5.4320e+00,  5.6128e+00,  8.2161e+00],\n",
      "         [ 6.7630e+00,  5.1138e+00,  2.3134e+01,  7.7812e+00,  8.8464e+00,\n",
      "           6.3266e+00,  7.6233e+00,  6.7662e+00],\n",
      "         [ 7.1197e+00,  7.3193e+00,  7.7812e+00,  2.4568e+01,  7.2031e+00,\n",
      "           7.0821e+00,  5.9044e+00,  3.8444e+00],\n",
      "         [ 3.8939e+00,  6.2483e+00,  8.8464e+00,  7.2031e+00,  2.4804e+01,\n",
      "           5.5910e+00,  9.0216e+00,  8.5119e+00],\n",
      "         [ 4.6732e+00,  5.4320e+00,  6.3266e+00,  7.0821e+00,  5.5910e+00,\n",
      "           2.2484e+01,  6.4853e+00,  4.3799e+00],\n",
      "         [ 6.4863e+00,  5.6128e+00,  7.6233e+00,  5.9044e+00,  9.0216e+00,\n",
      "           6.4853e+00,  2.3143e+01,  7.6399e+00],\n",
      "         [ 7.0904e+00,  8.2161e+00,  6.7662e+00,  3.8444e+00,  8.5119e+00,\n",
      "           4.3799e+00,  7.6399e+00,  2.3689e+01]]],\n",
      "       grad_fn=<MaskedFillBackward0>)\n"
     ]
    }
   ],
   "source": [
    "# 3. Mask opt.\n",
    "scores.masked_fill_(attn_mask, -1e9)\n",
    "print(scores.size())\n",
    "print(scores)"
   ]
  },
  {
   "cell_type": "code",
   "execution_count": 17,
   "id": "inside-aurora",
   "metadata": {
    "scrolled": true
   },
   "outputs": [
    {
     "name": "stdout",
     "output_type": "stream",
     "text": [
      "torch.Size([2, 8, 8])\n",
      "tensor([[[1.0000e+00, 7.2864e-09, 3.3745e-09, 4.1841e-10, 1.0750e-09,\n",
      "          3.5948e-10, 0.0000e+00, 0.0000e+00],\n",
      "         [1.4440e-08, 1.0000e+00, 1.6697e-08, 3.9071e-10, 5.9006e-10,\n",
      "          4.2574e-10, 0.0000e+00, 0.0000e+00],\n",
      "         [9.2867e-09, 2.3188e-08, 1.0000e+00, 7.2784e-09, 1.5660e-08,\n",
      "          3.2288e-09, 0.0000e+00, 0.0000e+00],\n",
      "         [2.0323e-06, 9.5761e-07, 1.2846e-05, 9.9997e-01, 7.6321e-06,\n",
      "          2.4921e-06, 0.0000e+00, 0.0000e+00],\n",
      "         [6.7318e-08, 1.8646e-08, 3.5636e-07, 9.8402e-08, 1.0000e+00,\n",
      "          1.1487e-07, 0.0000e+00, 0.0000e+00],\n",
      "         [6.4313e-08, 3.8435e-08, 2.0990e-07, 9.1792e-08, 3.2816e-07,\n",
      "          1.0000e+00, 0.0000e+00, 0.0000e+00],\n",
      "         [5.6785e-01, 1.7263e-02, 2.7032e-01, 1.0746e-03, 1.3706e-01,\n",
      "          6.4314e-03, 0.0000e+00, 0.0000e+00],\n",
      "         [5.6785e-01, 1.7263e-02, 2.7032e-01, 1.0746e-03, 1.3706e-01,\n",
      "          6.4314e-03, 0.0000e+00, 0.0000e+00]],\n",
      "\n",
      "        [[1.0000e+00, 5.8445e-08, 2.0398e-08, 2.9140e-08, 1.1576e-09,\n",
      "          2.5236e-09, 1.5467e-08, 2.8299e-08],\n",
      "         [9.1182e-08, 1.0000e+00, 6.1169e-09, 5.5508e-08, 1.9020e-08,\n",
      "          8.4086e-09, 1.0074e-08, 1.3609e-07],\n",
      "         [7.7638e-08, 1.4923e-08, 1.0000e+00, 2.1493e-07, 6.2356e-07,\n",
      "          5.0184e-08, 1.8353e-07, 7.7890e-08],\n",
      "         [2.6454e-08, 3.2299e-08, 5.1263e-08, 1.0000e+00, 2.8756e-08,\n",
      "          2.5479e-08, 7.8467e-09, 1.0001e-09],\n",
      "         [8.2971e-10, 8.7381e-09, 1.1742e-07, 2.2704e-08, 1.0000e+00,\n",
      "          4.5285e-09, 1.3992e-07, 8.4042e-08],\n",
      "         [1.8394e-08, 3.9284e-08, 9.6102e-08, 2.0457e-07, 4.6053e-08,\n",
      "          1.0000e+00, 1.1263e-07, 1.3717e-08],\n",
      "         [5.8366e-08, 2.4367e-08, 1.8196e-07, 3.2617e-08, 7.3665e-07,\n",
      "          5.8312e-08, 1.0000e+00, 1.8501e-07],\n",
      "         [6.1832e-08, 1.9060e-07, 4.4713e-08, 2.4070e-09, 2.5620e-07,\n",
      "          4.1120e-09, 1.0712e-07, 1.0000e+00]]], grad_fn=<SoftmaxBackward>)\n"
     ]
    }
   ],
   "source": [
    "# 4. Softmax\n",
    "attn_prob = nn.Softmax(dim=-1)(scores)\n",
    "print(attn_prob.size())\n",
    "print(attn_prob)"
   ]
  },
  {
   "cell_type": "markdown",
   "id": "warming-french",
   "metadata": {},
   "source": [
    "가중치가 확률로 변환되었기 때문에 mask한 부분은 0이 되었다."
   ]
  },
  {
   "cell_type": "code",
   "execution_count": 18,
   "id": "acknowledged-identification",
   "metadata": {},
   "outputs": [
    {
     "name": "stdout",
     "output_type": "stream",
     "text": [
      "torch.Size([2, 8, 128])\n"
     ]
    }
   ],
   "source": [
    "# 5. Matmul\n",
    "context = torch.matmul(attn_prob, V)\n",
    "print(context.size())"
   ]
  },
  {
   "cell_type": "code",
   "execution_count": 19,
   "id": "experienced-effectiveness",
   "metadata": {},
   "outputs": [],
   "source": [
    "class ScaledDotProductAttention(nn.Module):\n",
    "    def __init__(self, d_head):\n",
    "        super().__init__()\n",
    "        self.scale = 1 / (d_head ** 0.5)\n",
    "    \n",
    "    def forward(self, Q, K, V, attn_mask):\n",
    "        # (bs, n_head, n_q_seq, n_k_seq)\n",
    "        scores = torch.matmul(Q, K.transpose(-1, -2)).mul_(self.scale)\n",
    "        scores.masked_fill_(attn_mask, -1e9)\n",
    "        # (bs, n_head, n_q_seq, n_k_seq)\n",
    "        attn_prob = nn.Softmax(dim=-1)(scores)\n",
    "        # (bs, n_head, n_q_seq, d_v)\n",
    "        context = torch.matmul(attn_prob, V)\n",
    "        # (bs, n_head, n_q_seq, d_v), (bs, n_head, n_q_seq, n_v_seq)\n",
    "        return context, attn_prob"
   ]
  },
  {
   "cell_type": "markdown",
   "id": "joint-transmission",
   "metadata": {},
   "source": [
    "## Multi-head attention\n",
    "\n",
    "<img src='./imgs/multi_head_attn.png' width=500>"
   ]
  },
  {
   "cell_type": "code",
   "execution_count": 20,
   "id": "solved-rings",
   "metadata": {},
   "outputs": [],
   "source": [
    "Q = inputs_sum\n",
    "K = inputs_sum\n",
    "V = inputs_sum\n",
    "attn_mask = inputs.eq(0).unsqueeze(1).expand(Q.size(0), Q.size(1), K.size(1))\n",
    "\n",
    "batch_size = Q.size(0)\n",
    "num_heads = 2"
   ]
  },
  {
   "cell_type": "markdown",
   "id": "scenic-escape",
   "metadata": {},
   "source": [
    "multi-head에 넣기 위해 나누는 과정"
   ]
  },
  {
   "cell_type": "code",
   "execution_count": 21,
   "id": "tough-charger",
   "metadata": {},
   "outputs": [
    {
     "name": "stdout",
     "output_type": "stream",
     "text": [
      "torch.Size([2, 8, 128])\n",
      "torch.Size([2, 8, 2, 64])\n",
      "torch.Size([2, 2, 8, 64])\n"
     ]
    }
   ],
   "source": [
    "W_Q = nn.Linear(dim_hidden, num_heads * dim_head)\n",
    "W_K = nn.Linear(dim_hidden, num_heads * dim_head)\n",
    "W_V = nn.Linear(dim_hidden, num_heads * dim_head)\n",
    "\n",
    "# (bs, n_seq, n_head * d_head)\n",
    "q_s = W_Q(Q)\n",
    "print(q_s.size())\n",
    "# (bs, n_seq, n_head, d_head)\n",
    "q_s = q_s.view(batch_size, -1, num_heads, dim_head)\n",
    "print(q_s.size())\n",
    "# (bs, n_head, n_seq, d_head)\n",
    "q_s = q_s.transpose(1,2)\n",
    "print(q_s.size())"
   ]
  },
  {
   "cell_type": "markdown",
   "id": "independent-lincoln",
   "metadata": {},
   "source": [
    "이를 한 줄로 표현하면, "
   ]
  },
  {
   "cell_type": "code",
   "execution_count": 22,
   "id": "satisfied-warren",
   "metadata": {},
   "outputs": [
    {
     "name": "stdout",
     "output_type": "stream",
     "text": [
      "torch.Size([2, 2, 8, 64]) torch.Size([2, 2, 8, 64]) torch.Size([2, 2, 8, 64])\n"
     ]
    }
   ],
   "source": [
    "# (bs, n_head, n_seq, d_head)\n",
    "q_s = W_Q(Q).view(batch_size, -1, num_heads, dim_head).transpose(1,2)\n",
    "# (bs, n_head, n_seq, d_head)\n",
    "k_s = W_K(K).view(batch_size, -1, num_heads, dim_head).transpose(1,2)\n",
    "# (bs, n_head, n_seq, d_head)\n",
    "v_s = W_V(V).view(batch_size, -1, num_heads, dim_head).transpose(1,2)\n",
    "print(q_s.size(), k_s.size(), v_s.size())\n"
   ]
  },
  {
   "cell_type": "code",
   "execution_count": 24,
   "id": "overall-quebec",
   "metadata": {},
   "outputs": [
    {
     "name": "stdout",
     "output_type": "stream",
     "text": [
      "torch.Size([2, 8, 8])\n",
      "torch.Size([2, 2, 8, 8])\n"
     ]
    }
   ],
   "source": [
    "print(attn_mask.size())\n",
    "attn_mask = attn_mask.unsqueeze(1).repeat(1, num_heads, 1, 1)\n",
    "print(attn_mask.size())"
   ]
  },
  {
   "cell_type": "code",
   "execution_count": 26,
   "id": "voluntary-cleaners",
   "metadata": {},
   "outputs": [
    {
     "name": "stdout",
     "output_type": "stream",
     "text": [
      "torch.Size([2, 2, 8, 64])\n",
      "torch.Size([2, 2, 8, 8])\n"
     ]
    }
   ],
   "source": [
    "scaled_dot_attn = ScaledDotProductAttention(dim_head)\n",
    "context, attn_prob = scaled_dot_attn(q_s, k_s, v_s, attn_mask)\n",
    "print(context.size())\n",
    "print(attn_prob.size())"
   ]
  },
  {
   "cell_type": "code",
   "execution_count": 28,
   "id": "amino-qualification",
   "metadata": {},
   "outputs": [
    {
     "name": "stdout",
     "output_type": "stream",
     "text": [
      "torch.Size([2, 8, 128])\n"
     ]
    }
   ],
   "source": [
    "# (bs, n_seq, n_head * d_head)\n",
    "context = context.transpose(1, 2).contiguous().view(batch_size, -1, num_heads * dim_head)\n",
    "print(context.size())"
   ]
  },
  {
   "cell_type": "code",
   "execution_count": 29,
   "id": "afraid-adjustment",
   "metadata": {},
   "outputs": [
    {
     "name": "stdout",
     "output_type": "stream",
     "text": [
      "torch.Size([2, 8, 128])\n"
     ]
    }
   ],
   "source": [
    "linear = nn.Linear(num_heads * dim_head, dim_hidden)\n",
    "# (bs, n_seq, d_hidn)\n",
    "output = linear(context)\n",
    "print(output.size())"
   ]
  },
  {
   "cell_type": "code",
   "execution_count": 30,
   "id": "placed-dialogue",
   "metadata": {},
   "outputs": [],
   "source": [
    "\"\"\" multi head attention \"\"\"\n",
    "class MultiHeadAttention(nn.Module):\n",
    "    def __init__(self, d_hidn, n_head, d_head):\n",
    "        super().__init__()\n",
    "        self.d_hidn = d_hidn\n",
    "        self.n_head = n_head\n",
    "        self.d_head = d_head\n",
    "\n",
    "        self.W_Q = nn.Linear(d_hidn, n_head * d_head)\n",
    "        self.W_K = nn.Linear(d_hidn, n_head * d_head)\n",
    "        self.W_V = nn.Linear(d_hidn, n_head * d_head)\n",
    "        self.scaled_dot_attn = ScaledDotProductAttention(d_head)\n",
    "        self.linear = nn.Linear(n_head * d_head, d_hidn)\n",
    "    \n",
    "    def forward(self, Q, K, V, attn_mask):\n",
    "        batch_size = Q.size(0)\n",
    "        # (bs, n_head, n_q_seq, d_head)\n",
    "        q_s = self.W_Q(Q).view(batch_size, -1, self.n_head, self.d_head).transpose(1,2)\n",
    "        # (bs, n_head, n_k_seq, d_head)\n",
    "        k_s = self.W_K(K).view(batch_size, -1, self.n_head, self.d_head).transpose(1,2)\n",
    "        # (bs, n_head, n_v_seq, d_head)\n",
    "        v_s = self.W_V(V).view(batch_size, -1, self.n_head, self.d_head).transpose(1,2)\n",
    "\n",
    "        # (bs, n_head, n_q_seq, n_k_seq)\n",
    "        attn_mask = attn_mask.unsqueeze(1).repeat(1, self.n_head, 1, 1)\n",
    "\n",
    "        # (bs, n_head, n_q_seq, d_head), (bs, n_head, n_q_seq, n_k_seq)\n",
    "        context, attn_prob = self.scaled_dot_attn(q_s, k_s, v_s, attn_mask)\n",
    "        # (bs, n_head, n_q_seq, h_head * d_head)\n",
    "        context = context.transpose(1, 2).contiguous().view(batch_size, -1, self.n_head * self.d_head)\n",
    "        # (bs, n_head, n_q_seq, e_embd)\n",
    "        output = self.linear(context)\n",
    "        # (bs, n_q_seq, d_hidn), (bs, n_head, n_q_seq, n_k_seq)\n",
    "        return output, attn_prob"
   ]
  },
  {
   "cell_type": "markdown",
   "id": "excited-eclipse",
   "metadata": {},
   "source": [
    "## Masked multi-head attention\n",
    "\n",
    "Masked Multi-Head Attention은 Multi-Head Attention과 attention mask를 제외한 부분은 모두 동일합니다."
   ]
  },
  {
   "cell_type": "code",
   "execution_count": 32,
   "id": "unexpected-weekly",
   "metadata": {},
   "outputs": [
    {
     "name": "stdout",
     "output_type": "stream",
     "text": [
      "tensor([[False, False, False, False, False, False, False, False],\n",
      "        [False, False, False, False, False, False, False, False],\n",
      "        [False, False, False, False, False, False, False, False],\n",
      "        [False, False, False, False, False, False, False, False],\n",
      "        [False, False, False, False, False, False, False, False],\n",
      "        [False, False, False, False, False, False, False, False],\n",
      "        [False, False, False, False, False, False, False, False],\n",
      "        [False, False, False, False, False, False, False, False]])\n",
      "tensor([[0, 1, 1, 1, 1, 1, 1, 1],\n",
      "        [0, 0, 1, 1, 1, 1, 1, 1],\n",
      "        [0, 0, 0, 1, 1, 1, 1, 1],\n",
      "        [0, 0, 0, 0, 1, 1, 1, 1],\n",
      "        [0, 0, 0, 0, 0, 1, 1, 1],\n",
      "        [0, 0, 0, 0, 0, 0, 1, 1],\n",
      "        [0, 0, 0, 0, 0, 0, 0, 1],\n",
      "        [0, 0, 0, 0, 0, 0, 0, 0]])\n",
      "tensor([[False,  True,  True,  True,  True,  True,  True,  True],\n",
      "        [False, False,  True,  True,  True,  True,  True,  True],\n",
      "        [False, False, False,  True,  True,  True,  True,  True],\n",
      "        [False, False, False, False,  True,  True,  True,  True],\n",
      "        [False, False, False, False, False,  True,  True,  True],\n",
      "        [False, False, False, False, False, False,  True,  True],\n",
      "        [False, False, False, False, False, False, False,  True],\n",
      "        [False, False, False, False, False, False, False, False]])\n"
     ]
    }
   ],
   "source": [
    "\"\"\" attention decoder mask \"\"\"\n",
    "def get_attn_decoder_mask(seq):\n",
    "    subsequent_mask = torch.ones_like(seq).unsqueeze(-1).expand(seq.size(0), seq.size(1), seq.size(1))\n",
    "    subsequent_mask = subsequent_mask.triu(diagonal=1) # upper triangular part of a matrix(2-D)\n",
    "    return subsequent_mask\n",
    "\n",
    "\n",
    "Q = inputs_sum\n",
    "K = inputs_sum\n",
    "V = inputs_sum\n",
    "\n",
    "attn_pad_mask = inputs.eq(0).unsqueeze(1).expand(Q.size(0), Q.size(1), K.size(1))\n",
    "print(attn_pad_mask[1])\n",
    "attn_dec_mask = get_attn_decoder_mask(inputs)\n",
    "print(attn_dec_mask[1])\n",
    "attn_mask = torch.gt((attn_pad_mask + attn_dec_mask), 0)\n",
    "print(attn_mask[1])\n",
    "\n",
    "batch_size = Q.size(0)\n",
    "n_head = 2\n"
   ]
  },
  {
   "cell_type": "code",
   "execution_count": 34,
   "id": "sophisticated-practitioner",
   "metadata": {},
   "outputs": [
    {
     "name": "stdout",
     "output_type": "stream",
     "text": [
      "torch.Size([2, 8, 128]) torch.Size([2, 2, 8, 8])\n"
     ]
    }
   ],
   "source": [
    "attention = MultiHeadAttention(dim_hidden, num_heads, dim_head)\n",
    "output, attn_prob = attention(Q, K, V, attn_mask)\n",
    "print(output.size(), attn_prob.size())"
   ]
  },
  {
   "cell_type": "markdown",
   "id": "worth-eating",
   "metadata": {},
   "source": [
    "## FeedForwad\n",
    "\n",
    "<img src='./imgs/feedforward.png' width=500>"
   ]
  },
  {
   "cell_type": "code",
   "execution_count": 36,
   "id": "destroyed-rouge",
   "metadata": {},
   "outputs": [
    {
     "name": "stdout",
     "output_type": "stream",
     "text": [
      "torch.Size([2, 512, 8])\n"
     ]
    }
   ],
   "source": [
    "conv1 = nn.Conv1d(in_channels=dim_hidden, out_channels=dim_hidden * 4, kernel_size=1)\n",
    "# (bs, d_hidn * 4, n_seq)\n",
    "ff_1 = conv1(output.transpose(1, 2))\n",
    "print(ff_1.size())"
   ]
  },
  {
   "cell_type": "code",
   "execution_count": 39,
   "id": "binding-square",
   "metadata": {},
   "outputs": [],
   "source": [
    "# active = F.relu\n",
    "active = F.gelu\n",
    "ff_2 = active(ff_1)"
   ]
  },
  {
   "cell_type": "code",
   "execution_count": 41,
   "id": "blond-cache",
   "metadata": {},
   "outputs": [
    {
     "name": "stdout",
     "output_type": "stream",
     "text": [
      "torch.Size([2, 8, 128])\n"
     ]
    }
   ],
   "source": [
    "conv2 = nn.Conv1d(in_channels=dim_hidden * 4, out_channels=dim_hidden, kernel_size=1)\n",
    "ff_3 = conv2(ff_2).transpose(1, 2)\n",
    "print(ff_3.size())"
   ]
  },
  {
   "cell_type": "code",
   "execution_count": 42,
   "id": "english-chase",
   "metadata": {},
   "outputs": [],
   "source": [
    "\"\"\" feed forward \"\"\"\n",
    "class PoswiseFeedForwardNet(nn.Module):\n",
    "    def __init__(self, d_hidn):\n",
    "        super().__init__()\n",
    "\n",
    "        self.conv1 = nn.Conv1d(in_channels=self.config.d_hidn, out_channels=self.config.d_hidn * 4, kernel_size=1)\n",
    "        self.conv2 = nn.Conv1d(in_channels=self.config.d_hidn * 4, out_channels=self.config.d_hidn, kernel_size=1)\n",
    "        self.active = F.gelu\n",
    "\n",
    "    def forward(self, inputs):\n",
    "        # (bs, d_ff, n_seq)\n",
    "        output = self.active(self.conv1(inputs.transpose(1, 2)))\n",
    "        # (bs, n_seq, d_hidn)\n",
    "        output = self.conv2(output).transpose(1, 2)\n",
    "        # (bs, n_seq, d_hidn)\n",
    "        return output"
   ]
  },
  {
   "cell_type": "code",
   "execution_count": 4,
   "id": "editorial-option",
   "metadata": {},
   "outputs": [],
   "source": [
    "\"\"\" encoder \"\"\"\n",
    "class Encoder(nn.Module):\n",
    "    def __init__(self, config):\n",
    "        super().__init__()\n",
    "        self.config = config\n",
    "\n",
    "        self.enc_emb = nn.Embedding(self.config.n_enc_vocab, self.config.d_hidn)\n",
    "        sinusoid_table = torch.FloatTensor(get_sinusoid_encoding_table(self.config.n_enc_seq + 1, self.config.d_hidn))\n",
    "        self.pos_emb = nn.Embedding.from_pretrained(sinusoid_table, freeze=True)\n",
    "\n",
    "        self.layers = nn.ModuleList([EncoderLayer(self.config) for _ in range(self.config.n_layer)])\n",
    "    \n",
    "    def forward(self, inputs):\n",
    "        positions = torch.arange(inputs.size(1), device=inputs.device, dtype=inputs.dtype).expand(inputs.size(0), inputs.size(1)).contiguous() + 1\n",
    "        pos_mask = inputs.eq(self.config.i_pad)\n",
    "        positions.masked_fill_(pos_mask, 0)\n",
    "\n",
    "        # (bs, n_enc_seq, d_hidn)\n",
    "        outputs = self.enc_emb(inputs) + self.pos_emb(positions)\n",
    "\n",
    "        # (bs, n_enc_seq, n_enc_seq)\n",
    "        attn_mask = get_attn_pad_mask(inputs, inputs, self.config.i_pad)\n",
    "\n",
    "        attn_probs = []\n",
    "        for layer in self.layers:\n",
    "            # (bs, n_enc_seq, d_hidn), (bs, n_head, n_enc_seq, n_enc_seq)\n",
    "            outputs, attn_prob = layer(outputs, attn_mask)\n",
    "            attn_probs.append(attn_prob)\n",
    "        # (bs, n_enc_seq, d_hidn), [(bs, n_head, n_enc_seq, n_enc_seq)]\n",
    "        return outputs, attn_probs"
   ]
  },
  {
   "cell_type": "code",
   "execution_count": 5,
   "id": "naval-lawsuit",
   "metadata": {},
   "outputs": [],
   "source": [
    "\"\"\" decoder layer \"\"\"\n",
    "class DecoderLayer(nn.Module):\n",
    "    def __init__(self, config):\n",
    "        super().__init__()\n",
    "        self.config = config\n",
    "\n",
    "        self.self_attn = MultiHeadAttention(self.config)\n",
    "        self.layer_norm1 = nn.LayerNorm(self.config.d_hidn, eps=self.config.layer_norm_epsilon)\n",
    "        self.dec_enc_attn = MultiHeadAttention(self.config)\n",
    "        self.layer_norm2 = nn.LayerNorm(self.config.d_hidn, eps=self.config.layer_norm_epsilon)\n",
    "        self.pos_ffn = PoswiseFeedForwardNet(self.config)\n",
    "        self.layer_norm3 = nn.LayerNorm(self.config.d_hidn, eps=self.config.layer_norm_epsilon)\n",
    "    \n",
    "    def forward(self, dec_inputs, enc_outputs, self_attn_mask, dec_enc_attn_mask):\n",
    "        # (bs, n_dec_seq, d_hidn), (bs, n_head, n_dec_seq, n_dec_seq)\n",
    "        self_att_outputs, self_attn_prob = self.self_attn(dec_inputs, dec_inputs, dec_inputs, self_attn_mask)\n",
    "        self_att_outputs = self.layer_norm1(dec_inputs + self_att_outputs)\n",
    "        # (bs, n_dec_seq, d_hidn), (bs, n_head, n_dec_seq, n_enc_seq)\n",
    "        dec_enc_att_outputs, dec_enc_attn_prob = self.dec_enc_attn(self_att_outputs, enc_outputs, enc_outputs, dec_enc_attn_mask)\n",
    "        dec_enc_att_outputs = self.layer_norm2(self_att_outputs + dec_enc_att_outputs)\n",
    "        # (bs, n_dec_seq, d_hidn)\n",
    "        ffn_outputs = self.pos_ffn(dec_enc_att_outputs)\n",
    "        ffn_outputs = self.layer_norm3(dec_enc_att_outputs + ffn_outputs)\n",
    "        # (bs, n_dec_seq, d_hidn), (bs, n_head, n_dec_seq, n_dec_seq), (bs, n_head, n_dec_seq, n_enc_seq)\n",
    "        return ffn_outputs, self_attn_prob, dec_enc_attn_prob"
   ]
  },
  {
   "cell_type": "code",
   "execution_count": 6,
   "id": "hollow-software",
   "metadata": {},
   "outputs": [],
   "source": [
    "\"\"\" decoder \"\"\"\n",
    "class Decoder(nn.Module):\n",
    "    def __init__(self, config):\n",
    "        super().__init__()\n",
    "        self.config = config\n",
    "\n",
    "        self.dec_emb = nn.Embedding(self.config.n_dec_vocab, self.config.d_hidn)\n",
    "        sinusoid_table = torch.FloatTensor(get_sinusoid_encoding_table(self.config.n_dec_seq + 1, self.config.d_hidn))\n",
    "        self.pos_emb = nn.Embedding.from_pretrained(sinusoid_table, freeze=True)\n",
    "\n",
    "        self.layers = nn.ModuleList([DecoderLayer(self.config) for _ in range(self.config.n_layer)])\n",
    "    \n",
    "    def forward(self, dec_inputs, enc_inputs, enc_outputs):\n",
    "        positions = torch.arange(dec_inputs.size(1), device=dec_inputs.device, dtype=dec_inputs.dtype).expand(dec_inputs.size(0), dec_inputs.size(1)).contiguous() + 1\n",
    "        pos_mask = dec_inputs.eq(self.config.i_pad)\n",
    "        positions.masked_fill_(pos_mask, 0)\n",
    "    \n",
    "        # (bs, n_dec_seq, d_hidn)\n",
    "        dec_outputs = self.dec_emb(dec_inputs) + self.pos_emb(positions)\n",
    "\n",
    "        # (bs, n_dec_seq, n_dec_seq)\n",
    "        dec_attn_pad_mask = get_attn_pad_mask(dec_inputs, dec_inputs, self.config.i_pad)\n",
    "        # (bs, n_dec_seq, n_dec_seq)\n",
    "        dec_attn_decoder_mask = get_attn_decoder_mask(dec_inputs)\n",
    "        # (bs, n_dec_seq, n_dec_seq)\n",
    "        dec_self_attn_mask = torch.gt((dec_attn_pad_mask + dec_attn_decoder_mask), 0)\n",
    "        # (bs, n_dec_seq, n_enc_seq)\n",
    "        dec_enc_attn_mask = get_attn_pad_mask(dec_inputs, enc_inputs, self.config.i_pad)\n",
    "\n",
    "        self_attn_probs, dec_enc_attn_probs = [], []\n",
    "        for layer in self.layers:\n",
    "            # (bs, n_dec_seq, d_hidn), (bs, n_dec_seq, n_dec_seq), (bs, n_dec_seq, n_enc_seq)\n",
    "            dec_outputs, self_attn_prob, dec_enc_attn_prob = layer(dec_outputs, enc_outputs, dec_self_attn_mask, dec_enc_attn_mask)\n",
    "            self_attn_probs.append(self_attn_prob)\n",
    "            dec_enc_attn_probs.append(dec_enc_attn_prob)\n",
    "        # (bs, n_dec_seq, d_hidn), [(bs, n_dec_seq, n_dec_seq)], [(bs, n_dec_seq, n_enc_seq)]S\n",
    "        return dec_outputs, self_attn_probs, dec_enc_attn_probs"
   ]
  },
  {
   "cell_type": "code",
   "execution_count": 7,
   "id": "detailed-limitation",
   "metadata": {},
   "outputs": [],
   "source": [
    "\"\"\" transformer \"\"\"\n",
    "class Transformer(nn.Module):\n",
    "    def __init__(self, config):\n",
    "        super().__init__()\n",
    "        self.config = config\n",
    "\n",
    "        self.encoder = Encoder(self.config)\n",
    "        self.decoder = Decoder(self.config)\n",
    "    \n",
    "    def forward(self, enc_inputs, dec_inputs):\n",
    "        # (bs, n_enc_seq, d_hidn), [(bs, n_head, n_enc_seq, n_enc_seq)]\n",
    "        enc_outputs, enc_self_attn_probs = self.encoder(enc_inputs)\n",
    "        # (bs, n_seq, d_hidn), [(bs, n_head, n_dec_seq, n_dec_seq)], [(bs, n_head, n_dec_seq, n_enc_seq)]\n",
    "        dec_outputs, dec_self_attn_probs, dec_enc_attn_probs = self.decoder(dec_inputs, enc_inputs, enc_outputs)\n",
    "        # (bs, n_dec_seq, n_dec_vocab), [(bs, n_head, n_enc_seq, n_enc_seq)], [(bs, n_head, n_dec_seq, n_dec_seq)], [(bs, n_head, n_dec_seq, n_enc_seq)]\n",
    "        return dec_outputs, enc_self_attn_probs, dec_self_attn_probs, dec_enc_attn_probs"
   ]
  },
  {
   "cell_type": "code",
   "execution_count": null,
   "id": "outer-homework",
   "metadata": {},
   "outputs": [],
   "source": []
  }
 ],
 "metadata": {
  "kernelspec": {
   "display_name": "Python 3",
   "language": "python",
   "name": "python3"
  },
  "language_info": {
   "codemirror_mode": {
    "name": "ipython",
    "version": 3
   },
   "file_extension": ".py",
   "mimetype": "text/x-python",
   "name": "python",
   "nbconvert_exporter": "python",
   "pygments_lexer": "ipython3",
   "version": "3.8.8"
  }
 },
 "nbformat": 4,
 "nbformat_minor": 5
}
