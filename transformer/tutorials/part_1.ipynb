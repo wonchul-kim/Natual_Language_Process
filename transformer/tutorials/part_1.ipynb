{
 "cells": [
  {
   "cell_type": "code",
   "execution_count": 1,
   "id": "adverse-honolulu",
   "metadata": {},
   "outputs": [],
   "source": [
    "import sentencepiece as spm\n",
    "import torch\n",
    "import torch.nn as nn\n",
    "import torch.nn.functional as F\n",
    "import numpy as np\n",
    "import matplotlib.pyplot as plt"
   ]
  },
  {
   "cell_type": "markdown",
   "id": "israeli-adoption",
   "metadata": {},
   "source": [
    "### 1. Load vocabulary model"
   ]
  },
  {
   "cell_type": "code",
   "execution_count": 2,
   "id": "infinite-fiber",
   "metadata": {},
   "outputs": [
    {
     "data": {
      "text/plain": [
       "True"
      ]
     },
     "execution_count": 2,
     "metadata": {},
     "output_type": "execute_result"
    }
   ],
   "source": [
    "vocab_model = '../data/kowiki.model'\n",
    "vocab = spm.SentencePieceProcessor()\n",
    "vocab.load(vocab_model)"
   ]
  },
  {
   "cell_type": "code",
   "execution_count": 3,
   "id": "vulnerable-recall",
   "metadata": {},
   "outputs": [],
   "source": [
    "examples = ['내일은 비가 오네요.',\n",
    "              '오늘은 날씨가 좋네요.']\n"
   ]
  },
  {
   "cell_type": "code",
   "execution_count": 4,
   "id": "bulgarian-republic",
   "metadata": {},
   "outputs": [
    {
     "name": "stdout",
     "output_type": "stream",
     "text": [
      "['▁내', '일은', '▁비', '가', '▁오', '네', '요', '.']\n",
      "[114, 2979, 78, 3496, 64, 3753, 3656, 3487]\n",
      "['▁오늘', '은', '▁날', '씨', '가', '▁좋', '네', '요', '.']\n",
      "[1597, 3501, 691, 3924, 3496, 776, 3753, 3656, 3487]\n"
     ]
    }
   ],
   "source": [
    "vocab_list = []\n",
    "for example in examples:\n",
    "    pieces = vocab.encode_as_pieces(example)\n",
    "    print(pieces)\n",
    "    ids = vocab.encode_as_ids(example)\n",
    "    print(ids)\n",
    "    vocab_list.append(torch.tensor(ids))\n",
    "    "
   ]
  },
  {
   "cell_type": "code",
   "execution_count": 5,
   "id": "wrong-resident",
   "metadata": {},
   "outputs": [
    {
     "name": "stdout",
     "output_type": "stream",
     "text": [
      "tensor([[ 114, 2979,   78, 3496,   64, 3753, 3656, 3487,    0],\n",
      "        [1597, 3501,  691, 3924, 3496,  776, 3753, 3656, 3487]])\n",
      "torch.Size([2, 9])\n"
     ]
    }
   ],
   "source": [
    "# 문장마다 길이가 다르기 때문에 생기는 차이는 `pad(0)`으로 채워준다.\n",
    "inputs = torch.nn.utils.rnn.pad_sequence(vocab_list, \\\n",
    "                                 batch_first=True, padding_value=0)\n",
    "\n",
    "print(inputs)\n",
    "print(inputs.size())"
   ]
  },
  {
   "cell_type": "markdown",
   "id": "outside-atlantic",
   "metadata": {},
   "source": [
    "### 2. Embedding\n",
    "\n",
    "모델이 해석할 수 있는 입력값으로 매핑해주는 역할을 한다. 이 때, **Transformer**의 `embedding`은 다음과 같이 두 가지를 합해서 사용한다.\n",
    "\n",
    "* Input Embedding\n",
    "* Positional Embedding"
   ]
  },
  {
   "cell_type": "markdown",
   "id": "welsh-rebel",
   "metadata": {},
   "source": [
    "#### 2-1. Input embedding"
   ]
  },
  {
   "cell_type": "code",
   "execution_count": 6,
   "id": "geological-volume",
   "metadata": {},
   "outputs": [
    {
     "name": "stdout",
     "output_type": "stream",
     "text": [
      "8007\n",
      "torch.Size([2, 9, 128])\n"
     ]
    }
   ],
   "source": [
    "num_vocabs = len(vocab)\n",
    "print(num_vocabs)\n",
    "dim_hidn = 128 # 데이터를 어느 정도의 길이/차원으로 바꿔줄지를 선택\n",
    "nn_embed = nn.Embedding(num_vocabs, dim_hidn)\n",
    "\n",
    "inputs_embed = nn_embed(inputs)\n",
    "print(inputs_embed.size())"
   ]
  },
  {
   "cell_type": "markdown",
   "id": "static-exhibit",
   "metadata": {},
   "source": [
    "#### 2-2. Positional embedding\n",
    "\n",
    "- 각 position별 angle 값 구하기.\n",
    "- 구해진 angle 중 짝수 index의 값에 대한 sin 적용\n",
    "- 구해진 angle 중 홀수 index의 값에 대한 cos 적용"
   ]
  },
  {
   "cell_type": "code",
   "execution_count": 7,
   "id": "micro-ceramic",
   "metadata": {},
   "outputs": [],
   "source": [
    "def positional_encoding(num_seq, dim_hidn):\n",
    "\n",
    "    def cal_angle(pos, idx_hidn):\n",
    "        return pos/np.power(10000, \\\n",
    "                            2*(idx_hidn//2)/dim_hidn)\n",
    "    \n",
    "    def get_pos_angle(pos):\n",
    "        return [cal_angle(pos, idx_hidn) for idx_hidn \\\n",
    "                                            in range(dim_hidn)]\n",
    "    \n",
    "    sinusoid_table = np.array([get_pos_angle(i_seq) for \\\n",
    "                                           i_seq in range(num_seq)])\n",
    "    sinusoid_table[:, 0::2] = np.sin(sinusoid_table[:, 0::2])  # even index sin \n",
    "    sinusoid_table[:, 1::2] = np.cos(sinusoid_table[:, 1::2])  # odd index cos\n",
    "\n",
    "    return sinusoid_table"
   ]
  },
  {
   "cell_type": "code",
   "execution_count": 9,
   "id": "binary-mailman",
   "metadata": {},
   "outputs": [
    {
     "name": "stdout",
     "output_type": "stream",
     "text": [
      "(64, 128)\n"
     ]
    },
    {
     "data": {
      "image/png": "[encoded data removed]",
      "text/plain": [
       "<Figure size 432x288 with 2 Axes>"
      ]
     },
     "metadata": {
      "needs_background": "light"
     },
     "output_type": "display_data"
    }
   ],
   "source": [
    "num_seqs = 64\n",
    "pos_encoding = positional_encoding(num_seqs, dim_hidn)\n",
    "\n",
    "print (pos_encoding.shape)\n",
    "plt.pcolormesh(pos_encoding, cmap='RdBu')\n",
    "plt.xlabel('Depth')\n",
    "plt.xlim((0, dim_hidn))\n",
    "plt.ylabel('Position')\n",
    "plt.colorbar()\n",
    "plt.show()"
   ]
  },
  {
   "cell_type": "markdown",
   "id": "intelligent-cuisine",
   "metadata": {},
   "source": [
    "위의 그래프에서 알 수 있듯이, position마다 주기(depth)가 다르므로 서로 다른 값으로 매핑되는 것을 확인할 수 있다. "
   ]
  },
  {
   "cell_type": "markdown",
   "id": "relevant-dispute",
   "metadata": {},
   "source": [
    "position embedding을 위한 position encoding lookup table이 만들어졌으므로 이를 활용하여 입력값에서의 위치에 맞는 embedding값을 대응하기 위해서 nn.Embedding의 weight로 적용시킨다."
   ]
  },
  {
   "cell_type": "code",
   "execution_count": 10,
   "id": "monetary-sailing",
   "metadata": {},
   "outputs": [],
   "source": [
    "# 1. 앞서 구한 pos_encoding의 table을 nn.Embedding으로 하여 positional embedding을 하는 함수를 만들어준다.\n",
    "# 이 때, 학습되는 값이 아니므로 `freeze=True`로 한다.\n",
    "pos_encoding = torch.FloatTensor(pos_encoding)\n",
    "nn_pos_embed = nn.Embedding.from_pretrained(pos_encoding, freeze=True)"
   ]
  },
  {
   "cell_type": "code",
   "execution_count": 11,
   "id": "dried-pipeline",
   "metadata": {},
   "outputs": [
    {
     "data": {
      "text/plain": [
       "tensor([[1, 2, 3, 4, 5, 6, 7, 8, 9],\n",
       "        [1, 2, 3, 4, 5, 6, 7, 8, 9]])"
      ]
     },
     "execution_count": 11,
     "metadata": {},
     "output_type": "execute_result"
    }
   ],
   "source": [
    "# 2. 주어진 입력값의 vocab마다의 순서/위치를 나타내는 vector를 만든다.\n",
    "pos = torch.arange(inputs.size(1), device=inputs.device, dtype=inputs.dtype).expand(\\\n",
    "                                                          inputs.size(0), inputs.size(1)).contiguous() + 1\n",
    "pos"
   ]
  },
  {
   "cell_type": "code",
   "execution_count": 12,
   "id": "sustained-imperial",
   "metadata": {},
   "outputs": [
    {
     "data": {
      "text/plain": [
       "tensor([[False, False, False, False, False, False, False, False,  True],\n",
       "        [False, False, False, False, False, False, False, False, False]])"
      ]
     },
     "execution_count": 12,
     "metadata": {},
     "output_type": "execute_result"
    }
   ],
   "source": [
    "# 3. 앞서 구한 position에서 입력값의 <pad>에 해당하는 부분은 사용하지 않도록 mask를 만든다.\n",
    "pos_mask = inputs.eq(0) # 0과 같으면 True, 아니면 False\n",
    "pos_mask"
   ]
  },
  {
   "cell_type": "code",
   "execution_count": 13,
   "id": "intimate-actor",
   "metadata": {},
   "outputs": [
    {
     "name": "stdout",
     "output_type": "stream",
     "text": [
      "tensor([[ 114, 2979,   78, 3496,   64, 3753, 3656, 3487,    0],\n",
      "        [1597, 3501,  691, 3924, 3496,  776, 3753, 3656, 3487]])\n",
      "tensor([[1, 2, 3, 4, 5, 6, 7, 8, 0],\n",
      "        [1, 2, 3, 4, 5, 6, 7, 8, 9]])\n",
      "torch.Size([2, 9, 128])\n"
     ]
    }
   ],
   "source": [
    "# 4. mask를 적용한 pos 벡터를 통해서 position embedding을 구한다.\n",
    "pos.masked_fill_(pos_mask, 0) # mask의 True인 위치의 값만 0으로 대체 \n",
    "pos_embed = nn_pos_embed(pos) # position embedding\n",
    "\n",
    "print(inputs)\n",
    "print(pos)\n",
    "print(pos_embed.size())"
   ]
  },
  {
   "cell_type": "code",
   "execution_count": 14,
   "id": "reasonable-dining",
   "metadata": {},
   "outputs": [],
   "source": [
    "inputs_pos_embed = inputs_embed + pos_embed"
   ]
  },
  {
   "cell_type": "markdown",
   "id": "revolutionary-frost",
   "metadata": {},
   "source": [
    "### 3. Scaled dot production attention"
   ]
  },
  {
   "cell_type": "markdown",
   "id": "humanitarian-carnival",
   "metadata": {},
   "source": [
    "<img src='../imgs/dot_production_attn.png' width=500>\n",
    "\n",
    "위와 같이 입력값은 `Q`, `K`, `V`, `attention mask`로 구성되어 있고, `K`와 `V`는 값은 값이어야 한다. 이 때, `Q, K, V`가 모두 동일하다면 **self-attention**이라고 한다."
   ]
  },
  {
   "cell_type": "code",
   "execution_count": 18,
   "id": "driving-restaurant",
   "metadata": {
    "scrolled": false
   },
   "outputs": [
    {
     "name": "stdout",
     "output_type": "stream",
     "text": [
      "torch.Size([2, 9, 128])\n",
      "torch.Size([2, 9])\n",
      "torch.Size([2, 9, 9])\n",
      "tensor([[[False, False, False, False, False, False, False, False,  True],\n",
      "         [False, False, False, False, False, False, False, False,  True],\n",
      "         [False, False, False, False, False, False, False, False,  True],\n",
      "         [False, False, False, False, False, False, False, False,  True],\n",
      "         [False, False, False, False, False, False, False, False,  True],\n",
      "         [False, False, False, False, False, False, False, False,  True],\n",
      "         [False, False, False, False, False, False, False, False,  True],\n",
      "         [False, False, False, False, False, False, False, False,  True],\n",
      "         [False, False, False, False, False, False, False, False,  True]],\n",
      "\n",
      "        [[False, False, False, False, False, False, False, False, False],\n",
      "         [False, False, False, False, False, False, False, False, False],\n",
      "         [False, False, False, False, False, False, False, False, False],\n",
      "         [False, False, False, False, False, False, False, False, False],\n",
      "         [False, False, False, False, False, False, False, False, False],\n",
      "         [False, False, False, False, False, False, False, False, False],\n",
      "         [False, False, False, False, False, False, False, False, False],\n",
      "         [False, False, False, False, False, False, False, False, False],\n",
      "         [False, False, False, False, False, False, False, False, False]]])\n"
     ]
    }
   ],
   "source": [
    "# 1. MatMul\n",
    "Q = inputs_pos_embed\n",
    "K= inputs_pos_embed\n",
    "V = inputs_pos_embed\n",
    "# attn_mask의 shape은 Q와 K의 matmul한 이후의 shape와 동일해야한다.\n",
    "attn_mask = inputs.eq(0).unsqueeze(1).expand(Q.size(0), Q.size(1), K.size(1))\n",
    "print(Q.size())\n",
    "print(inputs.size())\n",
    "print(attn_mask.size())\n",
    "print(attn_mask)"
   ]
  },
  {
   "cell_type": "code",
   "execution_count": 19,
   "id": "placed-magnet",
   "metadata": {
    "scrolled": true
   },
   "outputs": [
    {
     "name": "stdout",
     "output_type": "stream",
     "text": [
      "torch.Size([2, 9, 9])\n",
      "tensor([[[239.8143,  82.1622,  60.1543,  48.2025,  74.3388,  64.4771,  68.2597,\n",
      "           43.4250,  91.3062],\n",
      "         [ 82.1622, 222.6051,  68.1487,  83.6456,  53.8603,  85.1838,  87.8367,\n",
      "           33.1051,  89.9340],\n",
      "         [ 60.1543,  68.1487, 208.5611,  48.2173,  62.8902,  37.6314,  38.1449,\n",
      "           50.2315,  89.2248],\n",
      "         [ 48.2025,  83.6456,  48.2173, 166.4888,  58.7092,  71.3033,  64.9827,\n",
      "           26.7374,  56.8726],\n",
      "         [ 74.3388,  53.8603,  62.8902,  58.7092, 188.9280,  33.8017,  74.4620,\n",
      "           22.5769,  70.2024],\n",
      "         [ 64.4771,  85.1838,  37.6314,  71.3033,  33.8017, 204.8648,  70.9715,\n",
      "           23.5115,  34.5963],\n",
      "         [ 68.2597,  87.8367,  38.1449,  64.9827,  74.4619,  70.9715, 170.7333,\n",
      "           30.3466,  61.0817],\n",
      "         [ 43.4250,  33.1051,  50.2315,  26.7374,  22.5769,  23.5115,  30.3466,\n",
      "          146.7108,  30.0690],\n",
      "         [ 91.3062,  89.9340,  89.2248,  56.8726,  70.2024,  34.5963,  61.0817,\n",
      "           30.0690, 208.1362]],\n",
      "\n",
      "        [[183.0825,  67.7698,  71.1628,  38.0529,  39.2326,  43.1446,  35.5870,\n",
      "           42.5066,  25.2712],\n",
      "         [ 67.7698, 227.5634,  87.2672,  58.3580,  42.6979,  37.8659,  39.6617,\n",
      "           59.7816,  21.8569],\n",
      "         [ 71.1628,  87.2672, 200.3778,  69.1264,  70.4118,  57.7484,  38.9785,\n",
      "           62.0803,  44.5404],\n",
      "         [ 38.0529,  58.3580,  69.1264, 213.7493,  52.8727,  47.6116,  43.8610,\n",
      "           27.7499,  23.7907],\n",
      "         [ 39.2326,  42.6979,  70.4118,  52.8727, 173.1906,  77.8878,  73.2760,\n",
      "           62.7877,  23.1746],\n",
      "         [ 43.1446,  37.8659,  57.7484,  47.6116,  77.8878, 177.7603,  51.4388,\n",
      "           56.9257,  26.9445],\n",
      "         [ 35.5870,  39.6617,  38.9785,  43.8610,  73.2760,  51.4388, 208.7655,\n",
      "           72.6296,  24.9235],\n",
      "         [ 42.5066,  59.7816,  62.0803,  27.7499,  62.7877,  56.9257,  72.6296,\n",
      "          171.2538,  30.1545],\n",
      "         [ 25.2712,  21.8569,  44.5404,  23.7907,  23.1746,  26.9445,  24.9235,\n",
      "           30.1545, 144.7227]]], grad_fn=<UnsafeViewBackward>)\n"
     ]
    }
   ],
   "source": [
    "scores = torch.matmul(Q, K.transpose(-1, -2)) # 또는 K.transpose(1, 2)도 동일\n",
    "print(scores.size())\n",
    "print(scores)"
   ]
  },
  {
   "cell_type": "code",
   "execution_count": 26,
   "id": "northern-mobility",
   "metadata": {
    "scrolled": true
   },
   "outputs": [
    {
     "name": "stdout",
     "output_type": "stream",
     "text": [
      "torch.Size([2, 9, 9])\n",
      "tensor([[[ 3.7471e+00,  1.2838e+00,  9.3991e-01,  7.5316e-01,  1.1615e+00,\n",
      "           1.0075e+00,  1.0666e+00,  6.7852e-01, -1.2500e+08],\n",
      "         [ 1.2838e+00,  3.4782e+00,  1.0648e+00,  1.3070e+00,  8.4157e-01,\n",
      "           1.3310e+00,  1.3724e+00,  5.1727e-01, -1.2500e+08],\n",
      "         [ 9.3991e-01,  1.0648e+00,  3.2588e+00,  7.5340e-01,  9.8266e-01,\n",
      "           5.8799e-01,  5.9601e-01,  7.8487e-01, -1.2500e+08],\n",
      "         [ 7.5316e-01,  1.3070e+00,  7.5340e-01,  2.6014e+00,  9.1733e-01,\n",
      "           1.1141e+00,  1.0154e+00,  4.1777e-01, -1.2500e+08],\n",
      "         [ 1.1615e+00,  8.4157e-01,  9.8266e-01,  9.1733e-01,  2.9520e+00,\n",
      "           5.2815e-01,  1.1635e+00,  3.5276e-01, -1.2500e+08],\n",
      "         [ 1.0075e+00,  1.3310e+00,  5.8799e-01,  1.1141e+00,  5.2815e-01,\n",
      "           3.2010e+00,  1.1089e+00,  3.6737e-01, -1.2500e+08],\n",
      "         [ 1.0666e+00,  1.3724e+00,  5.9601e-01,  1.0154e+00,  1.1635e+00,\n",
      "           1.1089e+00,  2.6677e+00,  4.7417e-01, -1.2500e+08],\n",
      "         [ 6.7852e-01,  5.1727e-01,  7.8487e-01,  4.1777e-01,  3.5276e-01,\n",
      "           3.6737e-01,  4.7417e-01,  2.2924e+00, -1.2500e+08],\n",
      "         [ 1.4267e+00,  1.4052e+00,  1.3941e+00,  8.8863e-01,  1.0969e+00,\n",
      "           5.4057e-01,  9.5440e-01,  4.6983e-01, -1.2500e+08]],\n",
      "\n",
      "        [[ 2.8607e+00,  1.0589e+00,  1.1119e+00,  5.9458e-01,  6.1301e-01,\n",
      "           6.7413e-01,  5.5605e-01,  6.6417e-01,  3.9486e-01],\n",
      "         [ 1.0589e+00,  3.5557e+00,  1.3636e+00,  9.1184e-01,  6.6716e-01,\n",
      "           5.9165e-01,  6.1971e-01,  9.3409e-01,  3.4151e-01],\n",
      "         [ 1.1119e+00,  1.3636e+00,  3.1309e+00,  1.0801e+00,  1.1002e+00,\n",
      "           9.0232e-01,  6.0904e-01,  9.7001e-01,  6.9594e-01],\n",
      "         [ 5.9458e-01,  9.1184e-01,  1.0801e+00,  3.3398e+00,  8.2614e-01,\n",
      "           7.4393e-01,  6.8533e-01,  4.3359e-01,  3.7173e-01],\n",
      "         [ 6.1301e-01,  6.6716e-01,  1.1002e+00,  8.2614e-01,  2.7061e+00,\n",
      "           1.2170e+00,  1.1449e+00,  9.8106e-01,  3.6210e-01],\n",
      "         [ 6.7413e-01,  5.9165e-01,  9.0232e-01,  7.4393e-01,  1.2170e+00,\n",
      "           2.7775e+00,  8.0373e-01,  8.8946e-01,  4.2101e-01],\n",
      "         [ 5.5605e-01,  6.1971e-01,  6.0904e-01,  6.8533e-01,  1.1449e+00,\n",
      "           8.0373e-01,  3.2620e+00,  1.1348e+00,  3.8943e-01],\n",
      "         [ 6.6417e-01,  9.3409e-01,  9.7001e-01,  4.3359e-01,  9.8106e-01,\n",
      "           8.8946e-01,  1.1348e+00,  2.6758e+00,  4.7116e-01],\n",
      "         [ 3.9486e-01,  3.4151e-01,  6.9594e-01,  3.7173e-01,  3.6210e-01,\n",
      "           4.2101e-01,  3.8943e-01,  4.7116e-01,  2.2613e+00]]],\n",
      "       grad_fn=<MulBackward0>)\n"
     ]
    }
   ],
   "source": [
    "# 2. Scale\n",
    "dim_head = 64\n",
    "scores = scores.mul_(1/dim_head**0.5)\n",
    "print(scores.size())\n",
    "print(scores)"
   ]
  },
  {
   "cell_type": "markdown",
   "id": "robust-memorial",
   "metadata": {},
   "source": [
    "> dim_head?????????????????????????"
   ]
  },
  {
   "cell_type": "code",
   "execution_count": 22,
   "id": "improved-correction",
   "metadata": {
    "scrolled": true
   },
   "outputs": [
    {
     "name": "stdout",
     "output_type": "stream",
     "text": [
      "torch.Size([2, 9, 9])\n",
      "tensor([[[ 2.9977e+01,  1.0270e+01,  7.5193e+00,  6.0253e+00,  9.2924e+00,\n",
      "           8.0596e+00,  8.5325e+00,  5.4281e+00, -1.0000e+09],\n",
      "         [ 1.0270e+01,  2.7826e+01,  8.5186e+00,  1.0456e+01,  6.7325e+00,\n",
      "           1.0648e+01,  1.0980e+01,  4.1381e+00, -1.0000e+09],\n",
      "         [ 7.5193e+00,  8.5186e+00,  2.6070e+01,  6.0272e+00,  7.8613e+00,\n",
      "           4.7039e+00,  4.7681e+00,  6.2789e+00, -1.0000e+09],\n",
      "         [ 6.0253e+00,  1.0456e+01,  6.0272e+00,  2.0811e+01,  7.3387e+00,\n",
      "           8.9129e+00,  8.1228e+00,  3.3422e+00, -1.0000e+09],\n",
      "         [ 9.2924e+00,  6.7325e+00,  7.8613e+00,  7.3387e+00,  2.3616e+01,\n",
      "           4.2252e+00,  9.3077e+00,  2.8221e+00, -1.0000e+09],\n",
      "         [ 8.0596e+00,  1.0648e+01,  4.7039e+00,  8.9129e+00,  4.2252e+00,\n",
      "           2.5608e+01,  8.8714e+00,  2.9389e+00, -1.0000e+09],\n",
      "         [ 8.5325e+00,  1.0980e+01,  4.7681e+00,  8.1228e+00,  9.3077e+00,\n",
      "           8.8714e+00,  2.1342e+01,  3.7933e+00, -1.0000e+09],\n",
      "         [ 5.4281e+00,  4.1381e+00,  6.2789e+00,  3.3422e+00,  2.8221e+00,\n",
      "           2.9389e+00,  3.7933e+00,  1.8339e+01, -1.0000e+09],\n",
      "         [ 1.1413e+01,  1.1242e+01,  1.1153e+01,  7.1091e+00,  8.7753e+00,\n",
      "           4.3245e+00,  7.6352e+00,  3.7586e+00, -1.0000e+09]],\n",
      "\n",
      "        [[ 2.2885e+01,  8.4712e+00,  8.8953e+00,  4.7566e+00,  4.9041e+00,\n",
      "           5.3931e+00,  4.4484e+00,  5.3133e+00,  3.1589e+00],\n",
      "         [ 8.4712e+00,  2.8445e+01,  1.0908e+01,  7.2948e+00,  5.3372e+00,\n",
      "           4.7332e+00,  4.9577e+00,  7.4727e+00,  2.7321e+00],\n",
      "         [ 8.8953e+00,  1.0908e+01,  2.5047e+01,  8.6408e+00,  8.8015e+00,\n",
      "           7.2185e+00,  4.8723e+00,  7.7600e+00,  5.5675e+00],\n",
      "         [ 4.7566e+00,  7.2948e+00,  8.6408e+00,  2.6719e+01,  6.6091e+00,\n",
      "           5.9514e+00,  5.4826e+00,  3.4687e+00,  2.9738e+00],\n",
      "         [ 4.9041e+00,  5.3372e+00,  8.8015e+00,  6.6091e+00,  2.1649e+01,\n",
      "           9.7360e+00,  9.1595e+00,  7.8485e+00,  2.8968e+00],\n",
      "         [ 5.3931e+00,  4.7332e+00,  7.2185e+00,  5.9514e+00,  9.7360e+00,\n",
      "           2.2220e+01,  6.4299e+00,  7.1157e+00,  3.3681e+00],\n",
      "         [ 4.4484e+00,  4.9577e+00,  4.8723e+00,  5.4826e+00,  9.1595e+00,\n",
      "           6.4299e+00,  2.6096e+01,  9.0787e+00,  3.1154e+00],\n",
      "         [ 5.3133e+00,  7.4727e+00,  7.7600e+00,  3.4687e+00,  7.8485e+00,\n",
      "           7.1157e+00,  9.0787e+00,  2.1407e+01,  3.7693e+00],\n",
      "         [ 3.1589e+00,  2.7321e+00,  5.5675e+00,  2.9738e+00,  2.8968e+00,\n",
      "           3.3681e+00,  3.1154e+00,  3.7693e+00,  1.8090e+01]]],\n",
      "       grad_fn=<MaskedFillBackward0>)\n"
     ]
    }
   ],
   "source": [
    "# 3. Mask opt.\n",
    "# 매우 작은 숫자로 해주어야 softmax를 통해서 확률로 바꿀 때 0이 된다.\n",
    "scores.masked_fill_(attn_mask, -1e9)\n",
    "print(scores.size())\n",
    "print(scores)"
   ]
  },
  {
   "cell_type": "code",
   "execution_count": 23,
   "id": "inside-aurora",
   "metadata": {
    "scrolled": true
   },
   "outputs": [
    {
     "name": "stdout",
     "output_type": "stream",
     "text": [
      "torch.Size([2, 9, 9])\n",
      "tensor([[[1.0000e+00, 2.7642e-09, 1.7654e-10, 3.9628e-11, 1.0396e-09,\n",
      "          3.0304e-10, 4.8624e-10, 2.1810e-11, 0.0000e+00],\n",
      "         [2.3758e-08, 1.0000e+00, 4.1215e-09, 2.8598e-08, 6.9086e-10,\n",
      "          3.4661e-08, 4.8290e-08, 5.1600e-11, 0.0000e+00],\n",
      "         [8.7794e-09, 2.3848e-08, 1.0000e+00, 1.9745e-09, 1.2359e-08,\n",
      "          5.2574e-10, 5.6059e-10, 2.5397e-09, 0.0000e+00],\n",
      "         [3.7896e-07, 3.1819e-05, 3.7967e-07, 9.9996e-01, 1.4092e-06,\n",
      "          6.8024e-06, 3.0870e-06, 2.5901e-08, 0.0000e+00],\n",
      "         [6.0162e-07, 4.6516e-08, 1.4382e-07, 8.5278e-08, 1.0000e+00,\n",
      "          3.7904e-09, 6.1095e-07, 9.3181e-10, 0.0000e+00],\n",
      "         [2.3922e-08, 3.1835e-07, 8.3451e-10, 5.6153e-08, 5.1705e-10,\n",
      "          1.0000e+00, 5.3872e-08, 1.4286e-10, 0.0000e+00],\n",
      "         [2.7354e-06, 3.1607e-05, 6.3413e-08, 1.8160e-06, 5.9390e-06,\n",
      "          3.8391e-06, 9.9995e-01, 2.3924e-08, 0.0000e+00],\n",
      "         [2.4714e-06, 6.8031e-07, 5.7869e-06, 3.0692e-07, 1.8246e-07,\n",
      "          2.0507e-07, 4.8190e-07, 9.9999e-01, 0.0000e+00],\n",
      "         [3.6731e-01, 3.0941e-01, 2.8317e-01, 4.9630e-03, 2.6265e-02,\n",
      "          3.0650e-04, 8.3993e-03, 1.7405e-04, 0.0000e+00]],\n",
      "\n",
      "        [[1.0000e+00, 5.4959e-07, 8.3991e-07, 1.3391e-08, 1.5518e-08,\n",
      "          2.5306e-08, 9.8387e-09, 2.3366e-08, 2.7097e-09],\n",
      "         [2.1150e-09, 1.0000e+00, 2.4197e-08, 6.5220e-10, 9.2097e-11,\n",
      "          5.0341e-11, 6.3011e-11, 7.7923e-10, 6.8053e-12],\n",
      "         [9.6678e-08, 7.2375e-07, 1.0000e+00, 7.4951e-08, 8.8016e-08,\n",
      "          1.8076e-08, 1.7304e-09, 3.1065e-08, 3.4680e-09],\n",
      "         [2.8973e-10, 3.6669e-09, 1.4089e-08, 1.0000e+00, 1.8472e-09,\n",
      "          9.5700e-10, 5.9884e-10, 7.9925e-11, 4.8725e-11],\n",
      "         [5.3437e-08, 8.2407e-08, 2.6330e-06, 2.9398e-07, 9.9999e-01,\n",
      "          6.7036e-06, 3.7666e-06, 1.0152e-06, 7.1796e-09],\n",
      "         [4.9220e-08, 2.5443e-08, 3.0544e-07, 8.6028e-08, 3.7865e-06,\n",
      "          1.0000e+00, 1.3881e-07, 2.7560e-07, 6.4967e-09],\n",
      "         [3.9691e-10, 6.6053e-10, 6.0647e-10, 1.1165e-09, 4.4127e-08,\n",
      "          2.8790e-09, 1.0000e+00, 4.0702e-08, 1.0467e-10],\n",
      "         [1.0250e-07, 8.8823e-07, 1.1839e-06, 1.6204e-08, 1.2933e-06,\n",
      "          6.2157e-07, 4.4259e-06, 9.9999e-01, 2.1886e-08],\n",
      "         [3.2761e-07, 2.1380e-07, 3.6427e-06, 2.7226e-07, 2.5208e-07,\n",
      "          4.0383e-07, 3.1368e-07, 6.0319e-07, 9.9999e-01]]],\n",
      "       grad_fn=<SoftmaxBackward>)\n"
     ]
    }
   ],
   "source": [
    "# 4. Softmax\n",
    "attn_prob = nn.Softmax(dim=-1)(scores)\n",
    "print(attn_prob.size())\n",
    "print(attn_prob)"
   ]
  },
  {
   "cell_type": "code",
   "execution_count": 24,
   "id": "acknowledged-identification",
   "metadata": {},
   "outputs": [
    {
     "name": "stdout",
     "output_type": "stream",
     "text": [
      "torch.Size([2, 9, 128])\n"
     ]
    }
   ],
   "source": [
    "# 5. Matmul\n",
    "context = torch.matmul(attn_prob, V)\n",
    "print(context.size())"
   ]
  },
  {
   "cell_type": "markdown",
   "id": "behavioral-senior",
   "metadata": {},
   "source": [
    "위의 과정들을 하나의 class로 바꾸어 보자."
   ]
  },
  {
   "cell_type": "code",
   "execution_count": 27,
   "id": "experienced-effectiveness",
   "metadata": {},
   "outputs": [],
   "source": [
    "class ScaledDotProductAttention(nn.Module):\n",
    "    def __init__(self, d_head):\n",
    "        super().__init__()\n",
    "        self.scale = 1 / (d_head ** 0.5)\n",
    "    \n",
    "    def forward(self, Q, K, V, attn_mask):\n",
    "        # (bs, n_head, n_q_seq, n_k_seq)\n",
    "        scores = torch.matmul(Q, K.transpose(-1, -2)).mul_(self.scale)\n",
    "        scores.masked_fill_(attn_mask, -1e9)\n",
    "        # (bs, n_head, n_q_seq, n_k_seq)\n",
    "        attn_prob = nn.Softmax(dim=-1)(scores)\n",
    "        # (bs, n_head, n_q_seq, d_v)\n",
    "        context = torch.matmul(attn_prob, V)\n",
    "        # (bs, n_head, n_q_seq, d_v), (bs, n_head, n_q_seq, n_v_seq)\n",
    "        return context, attn_prob"
   ]
  },
  {
   "cell_type": "markdown",
   "id": "joint-transmission",
   "metadata": {},
   "source": [
    "### 4. Multi-head attention\n",
    "\n",
    "<img src='../imgs/multi_head_attn.png' width=500>"
   ]
  },
  {
   "cell_type": "markdown",
   "id": "desirable-cookie",
   "metadata": {},
   "source": [
    "> multi-head attention을 사용하는 이유는 무엇일까????????????????????\n",
    "\n",
    "> Linear를 하는 이유는???? activation을 하는 것도 아닌데???"
   ]
  },
  {
   "cell_type": "code",
   "execution_count": 28,
   "id": "solved-rings",
   "metadata": {},
   "outputs": [
    {
     "name": "stdout",
     "output_type": "stream",
     "text": [
      "2\n"
     ]
    }
   ],
   "source": [
    "Q = inputs_pos_embed\n",
    "K = inputs_pos_embed\n",
    "V = inputs_pos_embed\n",
    "attn_mask = inputs.eq(0).unsqueeze(1).expand(Q.size(0), Q.size(1), K.size(1))\n",
    "\n",
    "batch_size = Q.size(0)\n",
    "num_heads = 2\n",
    "print(batch_size)"
   ]
  },
  {
   "cell_type": "markdown",
   "id": "imported-protocol",
   "metadata": {},
   "source": [
    "> batch_size = Q.size(0)???? 문장의 개수?????\n",
    "\n",
    "> num_heads = 2인 이유는 dim_head = 64로 embedding size = 128을 나누어서?  >> YES\n",
    "\n",
    "> 그렇다면, 단순히 한번에 계산할 수 있는 것을 두 번으로 나누어서 계산??? 하는 이유는???"
   ]
  },
  {
   "cell_type": "code",
   "execution_count": 30,
   "id": "tough-charger",
   "metadata": {},
   "outputs": [
    {
     "name": "stdout",
     "output_type": "stream",
     "text": [
      "torch.Size([2, 9, 128]) torch.Size([2, 9, 128])\n",
      "torch.Size([2, 9, 2, 64])\n",
      "torch.Size([2, 2, 9, 64])\n"
     ]
    }
   ],
   "source": [
    "# 1, 2, 3. Q, K, V를 여러 개의 head로 나눈다.\n",
    "W_Q = nn.Linear(dim_hidn, num_heads * dim_head)\n",
    "W_K = nn.Linear(dim_hidn, num_heads * dim_head)\n",
    "W_V = nn.Linear(dim_hidn, num_heads * dim_head)\n",
    "\n",
    "# (bs, n_seq, n_head * d_head)\n",
    "q_s = W_Q(Q)\n",
    "print(Q.size(), q_s.size())\n",
    "# (bs, n_seq, n_head, d_head)\n",
    "q_s = q_s.view(batch_size, -1, num_heads, dim_head)\n",
    "print(q_s.size())\n",
    "# (bs, n_head, n_seq, d_head)\n",
    "q_s = q_s.transpose(1,2)\n",
    "print(q_s.size())"
   ]
  },
  {
   "cell_type": "markdown",
   "id": "independent-lincoln",
   "metadata": {},
   "source": [
    "이를 한 줄로 표현하면, "
   ]
  },
  {
   "cell_type": "code",
   "execution_count": 31,
   "id": "satisfied-warren",
   "metadata": {},
   "outputs": [
    {
     "name": "stdout",
     "output_type": "stream",
     "text": [
      "torch.Size([2, 2, 9, 64]) torch.Size([2, 2, 9, 64]) torch.Size([2, 2, 9, 64])\n"
     ]
    }
   ],
   "source": [
    "# (bs, n_head, n_seq, d_head)\n",
    "q_s = W_Q(Q).view(batch_size, -1, num_heads, dim_head).transpose(1,2)\n",
    "# (bs, n_head, n_seq, d_head)\n",
    "k_s = W_K(K).view(batch_size, -1, num_heads, dim_head).transpose(1,2)\n",
    "# (bs, n_head, n_seq, d_head)\n",
    "v_s = W_V(V).view(batch_size, -1, num_heads, dim_head).transpose(1,2)\n",
    "print(q_s.size(), k_s.size(), v_s.size())\n"
   ]
  },
  {
   "cell_type": "code",
   "execution_count": 32,
   "id": "overall-quebec",
   "metadata": {},
   "outputs": [
    {
     "name": "stdout",
     "output_type": "stream",
     "text": [
      "torch.Size([2, 9, 9])\n",
      "torch.Size([2, 2, 9, 9])\n"
     ]
    }
   ],
   "source": [
    "print(attn_mask.size())\n",
    "attn_mask = attn_mask.unsqueeze(1).repeat(1, num_heads, 1, 1)\n",
    "print(attn_mask.size())"
   ]
  },
  {
   "cell_type": "code",
   "execution_count": 37,
   "id": "voluntary-cleaners",
   "metadata": {},
   "outputs": [
    {
     "name": "stdout",
     "output_type": "stream",
     "text": [
      "torch.Size([2, 2, 9, 64])\n",
      "torch.Size([2, 2, 9, 9])\n"
     ]
    }
   ],
   "source": [
    "# 4. attention\n",
    "scaled_dot_attn = ScaledDotProductAttention(dim_head)\n",
    "context, attn_prob = scaled_dot_attn(q_s, k_s, v_s, attn_mask)\n",
    "print(context.size())\n",
    "print(attn_prob.size())"
   ]
  },
  {
   "cell_type": "code",
   "execution_count": 39,
   "id": "amino-qualification",
   "metadata": {},
   "outputs": [
    {
     "name": "stdout",
     "output_type": "stream",
     "text": [
      "torch.Size([2, 9, 128])\n"
     ]
    }
   ],
   "source": [
    "# 5. concat\n",
    "# (bs, n_seq, n_head * d_head)\n",
    "context = context.transpose(1, 2).contiguous().view(\\\n",
    "                        batch_size, -1, num_heads * dim_head)\n",
    "print(context.size())"
   ]
  },
  {
   "cell_type": "code",
   "execution_count": 40,
   "id": "afraid-adjustment",
   "metadata": {},
   "outputs": [
    {
     "name": "stdout",
     "output_type": "stream",
     "text": [
      "torch.Size([2, 9, 128])\n"
     ]
    }
   ],
   "source": [
    "linear = nn.Linear(num_heads * dim_head, dim_hidn)\n",
    "# (bs, n_seq, d_hidn)\n",
    "output = linear(context)\n",
    "print(output.size())"
   ]
  },
  {
   "cell_type": "markdown",
   "id": "internal-professional",
   "metadata": {},
   "source": [
    "위으 모든 과정을 하나의 class로 만들어 보자."
   ]
  },
  {
   "cell_type": "code",
   "execution_count": 41,
   "id": "placed-dialogue",
   "metadata": {},
   "outputs": [],
   "source": [
    "\"\"\" multi head attention \"\"\"\n",
    "class MultiHeadAttention(nn.Module):\n",
    "    def __init__(self, d_hidn, n_head, d_head):\n",
    "        super().__init__()\n",
    "        self.d_hidn = d_hidn\n",
    "        self.n_head = n_head\n",
    "        self.d_head = d_head\n",
    "\n",
    "        self.W_Q = nn.Linear(d_hidn, n_head * d_head)\n",
    "        self.W_K = nn.Linear(d_hidn, n_head * d_head)\n",
    "        self.W_V = nn.Linear(d_hidn, n_head * d_head)\n",
    "        self.scaled_dot_attn = ScaledDotProductAttention(d_head)\n",
    "        self.linear = nn.Linear(n_head * d_head, d_hidn)\n",
    "    \n",
    "    def forward(self, Q, K, V, attn_mask):\n",
    "        batch_size = Q.size(0)\n",
    "        # (bs, n_head, n_q_seq, d_head)\n",
    "        q_s = self.W_Q(Q).view(batch_size, -1, self.n_head, self.d_head).transpose(1,2)\n",
    "        # (bs, n_head, n_k_seq, d_head)\n",
    "        k_s = self.W_K(K).view(batch_size, -1, self.n_head, self.d_head).transpose(1,2)\n",
    "        # (bs, n_head, n_v_seq, d_head)\n",
    "        v_s = self.W_V(V).view(batch_size, -1, self.n_head, self.d_head).transpose(1,2)\n",
    "\n",
    "        # (bs, n_head, n_q_seq, n_k_seq)\n",
    "        attn_mask = attn_mask.unsqueeze(1).repeat(1, self.n_head, 1, 1)\n",
    "\n",
    "        # (bs, n_head, n_q_seq, d_head), (bs, n_head, n_q_seq, n_k_seq)\n",
    "        context, attn_prob = self.scaled_dot_attn(q_s, k_s, v_s, attn_mask)\n",
    "        # (bs, n_head, n_q_seq, h_head * d_head)\n",
    "        context = context.transpose(1, 2).contiguous().view(batch_size, -1, self.n_head * self.d_head)\n",
    "        # (bs, n_head, n_q_seq, e_embd)\n",
    "        output = self.linear(context)\n",
    "        # (bs, n_q_seq, d_hidn), (bs, n_head, n_q_seq, n_k_seq)\n",
    "        return output, attn_prob"
   ]
  },
  {
   "cell_type": "markdown",
   "id": "excited-eclipse",
   "metadata": {},
   "source": [
    "### 5. Masked multi-head attention\n",
    "\n",
    "Masked Multi-Head Attention은 Multi-Head Attention과 attention mask를 제외한 부분은 모두 동일하다."
   ]
  },
  {
   "cell_type": "code",
   "execution_count": 43,
   "id": "unexpected-weekly",
   "metadata": {
    "scrolled": true
   },
   "outputs": [
    {
     "name": "stdout",
     "output_type": "stream",
     "text": [
      "tensor([[False, False, False, False, False, False, False, False, False],\n",
      "        [False, False, False, False, False, False, False, False, False],\n",
      "        [False, False, False, False, False, False, False, False, False],\n",
      "        [False, False, False, False, False, False, False, False, False],\n",
      "        [False, False, False, False, False, False, False, False, False],\n",
      "        [False, False, False, False, False, False, False, False, False],\n",
      "        [False, False, False, False, False, False, False, False, False],\n",
      "        [False, False, False, False, False, False, False, False, False],\n",
      "        [False, False, False, False, False, False, False, False, False]])\n",
      "tensor([[0, 1, 1, 1, 1, 1, 1, 1, 1],\n",
      "        [0, 0, 1, 1, 1, 1, 1, 1, 1],\n",
      "        [0, 0, 0, 1, 1, 1, 1, 1, 1],\n",
      "        [0, 0, 0, 0, 1, 1, 1, 1, 1],\n",
      "        [0, 0, 0, 0, 0, 1, 1, 1, 1],\n",
      "        [0, 0, 0, 0, 0, 0, 1, 1, 1],\n",
      "        [0, 0, 0, 0, 0, 0, 0, 1, 1],\n",
      "        [0, 0, 0, 0, 0, 0, 0, 0, 1],\n",
      "        [0, 0, 0, 0, 0, 0, 0, 0, 0]])\n",
      "tensor([[False,  True,  True,  True,  True,  True,  True,  True,  True],\n",
      "        [False, False,  True,  True,  True,  True,  True,  True,  True],\n",
      "        [False, False, False,  True,  True,  True,  True,  True,  True],\n",
      "        [False, False, False, False,  True,  True,  True,  True,  True],\n",
      "        [False, False, False, False, False,  True,  True,  True,  True],\n",
      "        [False, False, False, False, False, False,  True,  True,  True],\n",
      "        [False, False, False, False, False, False, False,  True,  True],\n",
      "        [False, False, False, False, False, False, False, False,  True],\n",
      "        [False, False, False, False, False, False, False, False, False]])\n"
     ]
    }
   ],
   "source": [
    "\"\"\" attention decoder mask \"\"\"\n",
    "def get_attn_decoder_mask(seq):\n",
    "    subsequent_mask = torch.ones_like(seq).unsqueeze(-1).expand(seq.size(0), seq.size(1), seq.size(1))\n",
    "    subsequent_mask = subsequent_mask.triu(diagonal=1) # upper triangular part of a matrix(2-D)\n",
    "    return subsequent_mask\n",
    "\n",
    "\n",
    "Q = inputs_pos_embed\n",
    "K = inputs_pos_embed\n",
    "V = inputs_pos_embed\n",
    "\n",
    "attn_pad_mask = inputs.eq(0).unsqueeze(1).expand(Q.size(0), Q.size(1), K.size(1))\n",
    "print(attn_pad_mask[1])\n",
    "attn_dec_mask = get_attn_decoder_mask(inputs)\n",
    "print(attn_dec_mask[1])\n",
    "attn_mask = torch.gt((attn_pad_mask + attn_dec_mask), 0)\n",
    "print(attn_mask[1])\n",
    "\n",
    "batch_size = Q.size(0)\n",
    "n_head = 2\n"
   ]
  },
  {
   "cell_type": "code",
   "execution_count": 45,
   "id": "sophisticated-practitioner",
   "metadata": {},
   "outputs": [
    {
     "name": "stdout",
     "output_type": "stream",
     "text": [
      "torch.Size([2, 9, 128]) torch.Size([2, 2, 9, 9])\n"
     ]
    }
   ],
   "source": [
    "attention = MultiHeadAttention(dim_hidn, num_heads, dim_head)\n",
    "output, attn_prob = attention(Q, K, V, attn_mask)\n",
    "print(output.size(), attn_prob.size())"
   ]
  },
  {
   "cell_type": "markdown",
   "id": "worth-eating",
   "metadata": {},
   "source": [
    "## FeedForwad\n",
    "\n",
    "<img src='../imgs/feedforward.png' width=500>"
   ]
  },
  {
   "cell_type": "code",
   "execution_count": 50,
   "id": "destroyed-rouge",
   "metadata": {},
   "outputs": [
    {
     "name": "stdout",
     "output_type": "stream",
     "text": [
      "torch.Size([2, 512, 9])\n"
     ]
    }
   ],
   "source": [
    "# 1. f_1\n",
    "conv1 = nn.Conv1d(in_channels=dim_hidn, \\\n",
    "                  out_channels=dim_hidn*4, kernel_size=1)\n",
    "# (bs, d_hidn * 4, n_seq)\n",
    "f_1 = conv1(output.transpose(1, 2))\n",
    "print(f_1.size())"
   ]
  },
  {
   "cell_type": "code",
   "execution_count": 55,
   "id": "binding-square",
   "metadata": {},
   "outputs": [],
   "source": [
    "# 2. f_2: activation\n",
    "# active = F.relu\n",
    "acitvn = F.gelu\n",
    "f_2 = acitvn(f_1)"
   ]
  },
  {
   "cell_type": "code",
   "execution_count": 56,
   "id": "blond-cache",
   "metadata": {},
   "outputs": [
    {
     "name": "stdout",
     "output_type": "stream",
     "text": [
      "torch.Size([2, 9, 128])\n"
     ]
    }
   ],
   "source": [
    "# 3. f_3\n",
    "conv2 = nn.Conv1d(in_channels=dim_hidn * 4, \\\n",
    "                  out_channels=dim_hidn, kernel_size=1)\n",
    "f_3 = conv2(f_2).transpose(1, 2)\n",
    "print(f_3.size())"
   ]
  },
  {
   "cell_type": "code",
   "execution_count": 57,
   "id": "english-chase",
   "metadata": {},
   "outputs": [],
   "source": [
    "\"\"\" feed forward \"\"\"\n",
    "class PoswiseFeedForwardNet(nn.Module):\n",
    "    def __init__(self, d_hidn):\n",
    "        super().__init__()\n",
    "\n",
    "        self.conv1 = nn.Conv1d(in_channels=self.config.d_hidn, \\\n",
    "                               out_channels=self.config.d_hidn*4,\\\n",
    "                               kernel_size=1)\n",
    "        self.conv2 = nn.Conv1d(in_channels=self.config.d_hidn*4,\\\n",
    "                               out_channels=self.config.d_hidn,\\\n",
    "                               kernel_size=1)\n",
    "        self.activn = F.gelu\n",
    "\n",
    "    def forward(self, inputs):\n",
    "        # (bs, d_ff, n_seq)\n",
    "        output = self.activn(self.conv1(inputs.transpose(1, 2)))\n",
    "        # (bs, n_seq, d_hidn)\n",
    "        output = self.conv2(output).transpose(1, 2)\n",
    "        # (bs, n_seq, d_hidn)\n",
    "        return output"
   ]
  },
  {
   "cell_type": "code",
   "execution_count": 58,
   "id": "editorial-option",
   "metadata": {},
   "outputs": [],
   "source": [
    "\"\"\" encoder \"\"\"\n",
    "class Encoder(nn.Module):\n",
    "    def __init__(self, config):\n",
    "        super().__init__()\n",
    "        self.config = config\n",
    "\n",
    "        self.enc_emb = nn.Embedding(self.config.n_enc_vocab, self.config.d_hidn)\n",
    "        sinusoid_table = torch.FloatTensor(get_sinusoid_encoding_table(self.config.n_enc_seq + 1, self.config.d_hidn))\n",
    "        self.pos_emb = nn.Embedding.from_pretrained(sinusoid_table, freeze=True)\n",
    "\n",
    "        self.layers = nn.ModuleList([EncoderLayer(self.config) for _ in range(self.config.n_layer)])\n",
    "    \n",
    "    def forward(self, inputs):\n",
    "        positions = torch.arange(inputs.size(1), device=inputs.device, dtype=inputs.dtype).expand(inputs.size(0), inputs.size(1)).contiguous() + 1\n",
    "        pos_mask = inputs.eq(self.config.i_pad)\n",
    "        positions.masked_fill_(pos_mask, 0)\n",
    "\n",
    "        # (bs, n_enc_seq, d_hidn)\n",
    "        outputs = self.enc_emb(inputs) + self.pos_emb(positions)\n",
    "\n",
    "        # (bs, n_enc_seq, n_enc_seq)\n",
    "        attn_mask = get_attn_pad_mask(inputs, inputs, self.config.i_pad)\n",
    "\n",
    "        attn_probs = []\n",
    "        for layer in self.layers:\n",
    "            # (bs, n_enc_seq, d_hidn), (bs, n_head, n_enc_seq, n_enc_seq)\n",
    "            outputs, attn_prob = layer(outputs, attn_mask)\n",
    "            attn_probs.append(attn_prob)\n",
    "        # (bs, n_enc_seq, d_hidn), [(bs, n_head, n_enc_seq, n_enc_seq)]\n",
    "        return outputs, attn_probs"
   ]
  },
  {
   "cell_type": "code",
   "execution_count": 59,
   "id": "naval-lawsuit",
   "metadata": {},
   "outputs": [],
   "source": [
    "\"\"\" decoder layer \"\"\"\n",
    "class DecoderLayer(nn.Module):\n",
    "    def __init__(self, config):\n",
    "        super().__init__()\n",
    "        self.config = config\n",
    "\n",
    "        self.self_attn = MultiHeadAttention(self.config)\n",
    "        self.layer_norm1 = nn.LayerNorm(self.config.d_hidn, eps=self.config.layer_norm_epsilon)\n",
    "        self.dec_enc_attn = MultiHeadAttention(self.config)\n",
    "        self.layer_norm2 = nn.LayerNorm(self.config.d_hidn, eps=self.config.layer_norm_epsilon)\n",
    "        self.pos_ffn = PoswiseFeedForwardNet(self.config)\n",
    "        self.layer_norm3 = nn.LayerNorm(self.config.d_hidn, eps=self.config.layer_norm_epsilon)\n",
    "    \n",
    "    def forward(self, dec_inputs, enc_outputs, self_attn_mask, dec_enc_attn_mask):\n",
    "        # (bs, n_dec_seq, d_hidn), (bs, n_head, n_dec_seq, n_dec_seq)\n",
    "        self_att_outputs, self_attn_prob = self.self_attn(dec_inputs, dec_inputs, dec_inputs, self_attn_mask)\n",
    "        self_att_outputs = self.layer_norm1(dec_inputs + self_att_outputs)\n",
    "        # (bs, n_dec_seq, d_hidn), (bs, n_head, n_dec_seq, n_enc_seq)\n",
    "        dec_enc_att_outputs, dec_enc_attn_prob = self.dec_enc_attn(self_att_outputs, enc_outputs, enc_outputs, dec_enc_attn_mask)\n",
    "        dec_enc_att_outputs = self.layer_norm2(self_att_outputs + dec_enc_att_outputs)\n",
    "        # (bs, n_dec_seq, d_hidn)\n",
    "        ffn_outputs = self.pos_ffn(dec_enc_att_outputs)\n",
    "        ffn_outputs = self.layer_norm3(dec_enc_att_outputs + ffn_outputs)\n",
    "        # (bs, n_dec_seq, d_hidn), (bs, n_head, n_dec_seq, n_dec_seq), (bs, n_head, n_dec_seq, n_enc_seq)\n",
    "        return ffn_outputs, self_attn_prob, dec_enc_attn_prob"
   ]
  },
  {
   "cell_type": "code",
   "execution_count": 60,
   "id": "hollow-software",
   "metadata": {},
   "outputs": [],
   "source": [
    "\"\"\" decoder \"\"\"\n",
    "class Decoder(nn.Module):\n",
    "    def __init__(self, config):\n",
    "        super().__init__()\n",
    "        self.config = config\n",
    "\n",
    "        self.dec_emb = nn.Embedding(self.config.n_dec_vocab, self.config.d_hidn)\n",
    "        sinusoid_table = torch.FloatTensor(get_sinusoid_encoding_table(self.config.n_dec_seq + 1, self.config.d_hidn))\n",
    "        self.pos_emb = nn.Embedding.from_pretrained(sinusoid_table, freeze=True)\n",
    "\n",
    "        self.layers = nn.ModuleList([DecoderLayer(self.config) for _ in range(self.config.n_layer)])\n",
    "    \n",
    "    def forward(self, dec_inputs, enc_inputs, enc_outputs):\n",
    "        positions = torch.arange(dec_inputs.size(1), device=dec_inputs.device, dtype=dec_inputs.dtype).expand(dec_inputs.size(0), dec_inputs.size(1)).contiguous() + 1\n",
    "        pos_mask = dec_inputs.eq(self.config.i_pad)\n",
    "        positions.masked_fill_(pos_mask, 0)\n",
    "    \n",
    "        # (bs, n_dec_seq, d_hidn)\n",
    "        dec_outputs = self.dec_emb(dec_inputs) + self.pos_emb(positions)\n",
    "\n",
    "        # (bs, n_dec_seq, n_dec_seq)\n",
    "        dec_attn_pad_mask = get_attn_pad_mask(dec_inputs, dec_inputs, self.config.i_pad)\n",
    "        # (bs, n_dec_seq, n_dec_seq)\n",
    "        dec_attn_decoder_mask = get_attn_decoder_mask(dec_inputs)\n",
    "        # (bs, n_dec_seq, n_dec_seq)\n",
    "        dec_self_attn_mask = torch.gt((dec_attn_pad_mask + dec_attn_decoder_mask), 0)\n",
    "        # (bs, n_dec_seq, n_enc_seq)\n",
    "        dec_enc_attn_mask = get_attn_pad_mask(dec_inputs, enc_inputs, self.config.i_pad)\n",
    "\n",
    "        self_attn_probs, dec_enc_attn_probs = [], []\n",
    "        for layer in self.layers:\n",
    "            # (bs, n_dec_seq, d_hidn), (bs, n_dec_seq, n_dec_seq), (bs, n_dec_seq, n_enc_seq)\n",
    "            dec_outputs, self_attn_prob, dec_enc_attn_prob = layer(dec_outputs, enc_outputs, dec_self_attn_mask, dec_enc_attn_mask)\n",
    "            self_attn_probs.append(self_attn_prob)\n",
    "            dec_enc_attn_probs.append(dec_enc_attn_prob)\n",
    "        # (bs, n_dec_seq, d_hidn), [(bs, n_dec_seq, n_dec_seq)], [(bs, n_dec_seq, n_enc_seq)]S\n",
    "        return dec_outputs, self_attn_probs, dec_enc_attn_probs"
   ]
  },
  {
   "cell_type": "code",
   "execution_count": 61,
   "id": "detailed-limitation",
   "metadata": {},
   "outputs": [],
   "source": [
    "\"\"\" transformer \"\"\"\n",
    "class Transformer(nn.Module):\n",
    "    def __init__(self, config):\n",
    "        super().__init__()\n",
    "        self.config = config\n",
    "\n",
    "        self.encoder = Encoder(self.config)\n",
    "        self.decoder = Decoder(self.config)\n",
    "    \n",
    "    def forward(self, enc_inputs, dec_inputs):\n",
    "        # (bs, n_enc_seq, d_hidn), [(bs, n_head, n_enc_seq, n_enc_seq)]\n",
    "        enc_outputs, enc_self_attn_probs = self.encoder(enc_inputs)\n",
    "        # (bs, n_seq, d_hidn), [(bs, n_head, n_dec_seq, n_dec_seq)], [(bs, n_head, n_dec_seq, n_enc_seq)]\n",
    "        dec_outputs, dec_self_attn_probs, dec_enc_attn_probs = self.decoder(dec_inputs, enc_inputs, enc_outputs)\n",
    "        # (bs, n_dec_seq, n_dec_vocab), [(bs, n_head, n_enc_seq, n_enc_seq)], [(bs, n_head, n_dec_seq, n_dec_seq)], [(bs, n_head, n_dec_seq, n_enc_seq)]\n",
    "        return dec_outputs, enc_self_attn_probs, dec_self_attn_probs, dec_enc_attn_probs"
   ]
  },
  {
   "cell_type": "code",
   "execution_count": null,
   "id": "outer-homework",
   "metadata": {},
   "outputs": [],
   "source": []
  }
 ],
 "metadata": {
  "kernelspec": {
   "display_name": "Python 3",
   "language": "python",
   "name": "python3"
  },
  "language_info": {
   "codemirror_mode": {
    "name": "ipython",
    "version": 3
   },
   "file_extension": ".py",
   "mimetype": "text/x-python",
   "name": "python",
   "nbconvert_exporter": "python",
   "pygments_lexer": "ipython3",
   "version": "3.8.8"
  }
 },
 "nbformat": 4,
 "nbformat_minor": 5
}
